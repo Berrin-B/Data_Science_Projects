{
 "cells": [
  {
   "cell_type": "markdown",
   "id": "5e910d74",
   "metadata": {},
   "source": [
    "# 🚗 Used Car Price Prediction Project\n",
    "\n",
    "## Project Overview\n",
    "\n",
    "This project aims to predict the prices of used cars based on various features such as age, manufacturer, model, condition, mileage, fuel type, transmission, and more. The dataset was collected from Kaggle and includes categorical, numerical, and date-related features.  \n",
    "\n",
    "### Key Steps:\n",
    "\n",
    "**Data Exploration (EDA)**  \n",
    "   - Understanding the structure, distributions, and missing values in the dataset.\n",
    "   - Detecting outliers and inspecting feature distributions.\n",
    "\n",
    "**Data Cleaning & Missing Value Handling**  \n",
    "   - Dropping irrelevant columns (URLs, IDs, descriptions, etc.).\n",
    "   - Handling missing values using appropriate strategies (median, mode, or a `\"missing\"` category).\n",
    "\n",
    "**Feature Engineering & Encoding**  \n",
    "   - Creating new features like `car_age` and `posting_day_type`.  \n",
    "   - Encoding categorical variables using frequency encoding or one-hot encoding.  \n",
    "   - Applying log transformation to skewed numerical features (`price`, `odometer`).\n",
    "\n",
    "**Modeling**  \n",
    "   - Using Random Forest Regressor to predict log-transformed car prices.  \n",
    "   - Evaluating model performance using Train/Test split and cross-validation.  \n",
    "   - Inspecting feature importances to understand key predictors.\n",
    "\n",
    "**Results & Insights**  \n",
    "   - The model achieves strong predictive performance with test R² around 0.84.  \n",
    "   - The most important features include `car_age`, `odometer`, and vehicle-specific attributes.  \n",
    "\n",
    "**Goal:**  \n",
    "Provide a reliable predictive model for used car prices and insights into which features most strongly influence price.\n"
   ]
  },
  {
   "cell_type": "markdown",
   "id": "7deb3fdd",
   "metadata": {},
   "source": [
    "## 1️⃣ Importing Libraries"
   ]
  },
  {
   "cell_type": "code",
   "execution_count": 150,
   "id": "067838e7",
   "metadata": {},
   "outputs": [],
   "source": [
    "# Data manipulation\n",
    "import pandas as pd\n",
    "import numpy as np\n",
    "\n",
    "# Visualization\n",
    "import seaborn as sns\n",
    "import matplotlib.pyplot as plt\n",
    "from scipy import stats\n",
    "\n",
    "# Machine Learning\n",
    "from sklearn.model_selection import train_test_split, cross_val_score\n",
    "from sklearn.ensemble import RandomForestRegressor\n",
    "from sklearn.metrics import mean_squared_error, mean_absolute_error, r2_score\n"
   ]
  },
  {
   "cell_type": "markdown",
   "id": "19c67e75",
   "metadata": {},
   "source": [
    "## 2️⃣ Load Dataset"
   ]
  },
  {
   "cell_type": "code",
   "execution_count": 151,
   "id": "6e9a1782",
   "metadata": {},
   "outputs": [
    {
     "data": {
      "text/html": [
       "<div>\n",
       "<style scoped>\n",
       "    .dataframe tbody tr th:only-of-type {\n",
       "        vertical-align: middle;\n",
       "    }\n",
       "\n",
       "    .dataframe tbody tr th {\n",
       "        vertical-align: top;\n",
       "    }\n",
       "\n",
       "    .dataframe thead th {\n",
       "        text-align: right;\n",
       "    }\n",
       "</style>\n",
       "<table border=\"1\" class=\"dataframe\">\n",
       "  <thead>\n",
       "    <tr style=\"text-align: right;\">\n",
       "      <th></th>\n",
       "      <th>id</th>\n",
       "      <th>url</th>\n",
       "      <th>region</th>\n",
       "      <th>region_url</th>\n",
       "      <th>price</th>\n",
       "      <th>year</th>\n",
       "      <th>manufacturer</th>\n",
       "      <th>model</th>\n",
       "      <th>condition</th>\n",
       "      <th>cylinders</th>\n",
       "      <th>...</th>\n",
       "      <th>size</th>\n",
       "      <th>type</th>\n",
       "      <th>paint_color</th>\n",
       "      <th>image_url</th>\n",
       "      <th>description</th>\n",
       "      <th>county</th>\n",
       "      <th>state</th>\n",
       "      <th>lat</th>\n",
       "      <th>long</th>\n",
       "      <th>posting_date</th>\n",
       "    </tr>\n",
       "  </thead>\n",
       "  <tbody>\n",
       "    <tr>\n",
       "      <th>0</th>\n",
       "      <td>7222695916</td>\n",
       "      <td>https://prescott.craigslist.org/cto/d/prescott...</td>\n",
       "      <td>prescott</td>\n",
       "      <td>https://prescott.craigslist.org</td>\n",
       "      <td>6000</td>\n",
       "      <td>NaN</td>\n",
       "      <td>NaN</td>\n",
       "      <td>NaN</td>\n",
       "      <td>NaN</td>\n",
       "      <td>NaN</td>\n",
       "      <td>...</td>\n",
       "      <td>NaN</td>\n",
       "      <td>NaN</td>\n",
       "      <td>NaN</td>\n",
       "      <td>NaN</td>\n",
       "      <td>NaN</td>\n",
       "      <td>NaN</td>\n",
       "      <td>az</td>\n",
       "      <td>NaN</td>\n",
       "      <td>NaN</td>\n",
       "      <td>NaN</td>\n",
       "    </tr>\n",
       "    <tr>\n",
       "      <th>1</th>\n",
       "      <td>7218891961</td>\n",
       "      <td>https://fayar.craigslist.org/ctd/d/bentonville...</td>\n",
       "      <td>fayetteville</td>\n",
       "      <td>https://fayar.craigslist.org</td>\n",
       "      <td>11900</td>\n",
       "      <td>NaN</td>\n",
       "      <td>NaN</td>\n",
       "      <td>NaN</td>\n",
       "      <td>NaN</td>\n",
       "      <td>NaN</td>\n",
       "      <td>...</td>\n",
       "      <td>NaN</td>\n",
       "      <td>NaN</td>\n",
       "      <td>NaN</td>\n",
       "      <td>NaN</td>\n",
       "      <td>NaN</td>\n",
       "      <td>NaN</td>\n",
       "      <td>ar</td>\n",
       "      <td>NaN</td>\n",
       "      <td>NaN</td>\n",
       "      <td>NaN</td>\n",
       "    </tr>\n",
       "    <tr>\n",
       "      <th>2</th>\n",
       "      <td>7221797935</td>\n",
       "      <td>https://keys.craigslist.org/cto/d/summerland-k...</td>\n",
       "      <td>florida keys</td>\n",
       "      <td>https://keys.craigslist.org</td>\n",
       "      <td>21000</td>\n",
       "      <td>NaN</td>\n",
       "      <td>NaN</td>\n",
       "      <td>NaN</td>\n",
       "      <td>NaN</td>\n",
       "      <td>NaN</td>\n",
       "      <td>...</td>\n",
       "      <td>NaN</td>\n",
       "      <td>NaN</td>\n",
       "      <td>NaN</td>\n",
       "      <td>NaN</td>\n",
       "      <td>NaN</td>\n",
       "      <td>NaN</td>\n",
       "      <td>fl</td>\n",
       "      <td>NaN</td>\n",
       "      <td>NaN</td>\n",
       "      <td>NaN</td>\n",
       "    </tr>\n",
       "    <tr>\n",
       "      <th>3</th>\n",
       "      <td>7222270760</td>\n",
       "      <td>https://worcester.craigslist.org/cto/d/west-br...</td>\n",
       "      <td>worcester / central MA</td>\n",
       "      <td>https://worcester.craigslist.org</td>\n",
       "      <td>1500</td>\n",
       "      <td>NaN</td>\n",
       "      <td>NaN</td>\n",
       "      <td>NaN</td>\n",
       "      <td>NaN</td>\n",
       "      <td>NaN</td>\n",
       "      <td>...</td>\n",
       "      <td>NaN</td>\n",
       "      <td>NaN</td>\n",
       "      <td>NaN</td>\n",
       "      <td>NaN</td>\n",
       "      <td>NaN</td>\n",
       "      <td>NaN</td>\n",
       "      <td>ma</td>\n",
       "      <td>NaN</td>\n",
       "      <td>NaN</td>\n",
       "      <td>NaN</td>\n",
       "    </tr>\n",
       "    <tr>\n",
       "      <th>4</th>\n",
       "      <td>7210384030</td>\n",
       "      <td>https://greensboro.craigslist.org/cto/d/trinit...</td>\n",
       "      <td>greensboro</td>\n",
       "      <td>https://greensboro.craigslist.org</td>\n",
       "      <td>4900</td>\n",
       "      <td>NaN</td>\n",
       "      <td>NaN</td>\n",
       "      <td>NaN</td>\n",
       "      <td>NaN</td>\n",
       "      <td>NaN</td>\n",
       "      <td>...</td>\n",
       "      <td>NaN</td>\n",
       "      <td>NaN</td>\n",
       "      <td>NaN</td>\n",
       "      <td>NaN</td>\n",
       "      <td>NaN</td>\n",
       "      <td>NaN</td>\n",
       "      <td>nc</td>\n",
       "      <td>NaN</td>\n",
       "      <td>NaN</td>\n",
       "      <td>NaN</td>\n",
       "    </tr>\n",
       "  </tbody>\n",
       "</table>\n",
       "<p>5 rows × 26 columns</p>\n",
       "</div>"
      ],
      "text/plain": [
       "           id                                                url  \\\n",
       "0  7222695916  https://prescott.craigslist.org/cto/d/prescott...   \n",
       "1  7218891961  https://fayar.craigslist.org/ctd/d/bentonville...   \n",
       "2  7221797935  https://keys.craigslist.org/cto/d/summerland-k...   \n",
       "3  7222270760  https://worcester.craigslist.org/cto/d/west-br...   \n",
       "4  7210384030  https://greensboro.craigslist.org/cto/d/trinit...   \n",
       "\n",
       "                   region                         region_url  price  year  \\\n",
       "0                prescott    https://prescott.craigslist.org   6000   NaN   \n",
       "1            fayetteville       https://fayar.craigslist.org  11900   NaN   \n",
       "2            florida keys        https://keys.craigslist.org  21000   NaN   \n",
       "3  worcester / central MA   https://worcester.craigslist.org   1500   NaN   \n",
       "4              greensboro  https://greensboro.craigslist.org   4900   NaN   \n",
       "\n",
       "  manufacturer model condition cylinders  ... size  type paint_color  \\\n",
       "0          NaN   NaN       NaN       NaN  ...  NaN   NaN         NaN   \n",
       "1          NaN   NaN       NaN       NaN  ...  NaN   NaN         NaN   \n",
       "2          NaN   NaN       NaN       NaN  ...  NaN   NaN         NaN   \n",
       "3          NaN   NaN       NaN       NaN  ...  NaN   NaN         NaN   \n",
       "4          NaN   NaN       NaN       NaN  ...  NaN   NaN         NaN   \n",
       "\n",
       "  image_url description county state lat long posting_date  \n",
       "0       NaN         NaN    NaN    az NaN  NaN          NaN  \n",
       "1       NaN         NaN    NaN    ar NaN  NaN          NaN  \n",
       "2       NaN         NaN    NaN    fl NaN  NaN          NaN  \n",
       "3       NaN         NaN    NaN    ma NaN  NaN          NaN  \n",
       "4       NaN         NaN    NaN    nc NaN  NaN          NaN  \n",
       "\n",
       "[5 rows x 26 columns]"
      ]
     },
     "execution_count": 151,
     "metadata": {},
     "output_type": "execute_result"
    }
   ],
   "source": [
    "# Load data\n",
    "df = pd.read_csv(\"vehicles.csv\")\n",
    "\n",
    "# Quick overview\n",
    "df.shape\n",
    "df.head()\n"
   ]
  },
  {
   "cell_type": "markdown",
   "id": "dfe7c3ce",
   "metadata": {},
   "source": [
    "## 3️⃣ Inspect and Prepare Data"
   ]
  },
  {
   "cell_type": "code",
   "execution_count": 152,
   "id": "cb40c762",
   "metadata": {},
   "outputs": [
    {
     "data": {
      "text/plain": [
       "Index(['id', 'url', 'region', 'region_url', 'price', 'year', 'manufacturer',\n",
       "       'model', 'condition', 'cylinders', 'fuel', 'odometer', 'title_status',\n",
       "       'transmission', 'VIN', 'drive', 'size', 'type', 'paint_color',\n",
       "       'image_url', 'description', 'county', 'state', 'lat', 'long',\n",
       "       'posting_date'],\n",
       "      dtype='object')"
      ]
     },
     "execution_count": 152,
     "metadata": {},
     "output_type": "execute_result"
    }
   ],
   "source": [
    "# Columns of data\n",
    "df.columns "
   ]
  },
  {
   "cell_type": "code",
   "execution_count": 153,
   "id": "b6d8526d",
   "metadata": {},
   "outputs": [
    {
     "data": {
      "text/plain": [
       "id                   0\n",
       "url                  0\n",
       "region               0\n",
       "region_url           0\n",
       "price                0\n",
       "year              1205\n",
       "manufacturer     17646\n",
       "model             5277\n",
       "condition       174104\n",
       "cylinders       177678\n",
       "fuel              3013\n",
       "odometer          4400\n",
       "title_status      8242\n",
       "transmission      2556\n",
       "VIN             161042\n",
       "drive           130567\n",
       "size            306361\n",
       "type             92858\n",
       "paint_color     130203\n",
       "image_url           68\n",
       "description         70\n",
       "county          426880\n",
       "state                0\n",
       "lat               6549\n",
       "long              6549\n",
       "posting_date        68\n",
       "dtype: int64"
      ]
     },
     "execution_count": 153,
     "metadata": {},
     "output_type": "execute_result"
    }
   ],
   "source": [
    "# Returns total missing values in every column\n",
    "df.isnull().sum() "
   ]
  },
  {
   "cell_type": "code",
   "execution_count": 154,
   "id": "e0427e43",
   "metadata": {},
   "outputs": [
    {
     "data": {
      "text/plain": [
       "id                int64\n",
       "url              object\n",
       "region           object\n",
       "region_url       object\n",
       "price             int64\n",
       "year            float64\n",
       "manufacturer     object\n",
       "model            object\n",
       "condition        object\n",
       "cylinders        object\n",
       "fuel             object\n",
       "odometer        float64\n",
       "title_status     object\n",
       "transmission     object\n",
       "VIN              object\n",
       "drive            object\n",
       "size             object\n",
       "type             object\n",
       "paint_color      object\n",
       "image_url        object\n",
       "description      object\n",
       "county          float64\n",
       "state            object\n",
       "lat             float64\n",
       "long            float64\n",
       "posting_date     object\n",
       "dtype: object"
      ]
     },
     "execution_count": 154,
     "metadata": {},
     "output_type": "execute_result"
    }
   ],
   "source": [
    "df.dtypes"
   ]
  },
  {
   "cell_type": "code",
   "execution_count": 155,
   "id": "f36a7e21",
   "metadata": {},
   "outputs": [
    {
     "data": {
      "text/plain": [
       "Index(['price', 'year', 'manufacturer', 'model', 'condition', 'cylinders',\n",
       "       'fuel', 'odometer', 'title_status', 'transmission', 'drive', 'size',\n",
       "       'type', 'paint_color', 'state', 'posting_date'],\n",
       "      dtype='object')"
      ]
     },
     "execution_count": 155,
     "metadata": {},
     "output_type": "execute_result"
    }
   ],
   "source": [
    "# Drop irrelevant columns\n",
    "df = df.drop([\"id\",\"url\",\"region_url\",\"image_url\",\"VIN\",\"description\",\"county\",\"region\",\"lat\",\"long\"], axis = 1)\n",
    "\n",
    "# Updated columns\n",
    "df.columns"
   ]
  },
  {
   "cell_type": "markdown",
   "id": "5da3c942",
   "metadata": {},
   "source": [
    "### Handling Missing Values"
   ]
  },
  {
   "cell_type": "code",
   "execution_count": null,
   "id": "a5ea6958",
   "metadata": {},
   "outputs": [],
   "source": [
    "!pip install rich\n",
    "from rich import print"
   ]
  },
  {
   "cell_type": "code",
   "execution_count": 157,
   "id": "d74e89d1",
   "metadata": {},
   "outputs": [],
   "source": [
    "def count_missing(column):\n",
    "    nan_sum = df[column].isnull().sum()\n",
    "    nan_percent = round(nan_sum/len(df)*100, 1)\n",
    "    print(f\"NaN values for [bold]{column}[/bold] :{nan_sum} It's [bold]{nan_percent}%[/bold] of total data\")"
   ]
  },
  {
   "cell_type": "code",
   "execution_count": 158,
   "id": "88bd9816",
   "metadata": {},
   "outputs": [],
   "source": [
    "df[\"price\"].value_counts().sort_index()\n",
    "\n",
    "# There are lots of unreasonably low values. We can set a threshold and drop the values under the threshold. \n",
    "# But first lets drop 0 values\n",
    "\n",
    "df = df[df['price'] > 0]"
   ]
  },
  {
   "cell_type": "code",
   "execution_count": 159,
   "id": "08fa9bdf",
   "metadata": {},
   "outputs": [
    {
     "data": {
      "image/png": "[encoded data removed]",
      "text/plain": [
       "<Figure size 1200x600 with 1 Axes>"
      ]
     },
     "metadata": {},
     "output_type": "display_data"
    }
   ],
   "source": [
    "\n",
    "plt.figure(figsize=(12,6))\n",
    "plt.hist(df['price'], bins=100, range=(0, 5000)) \n",
    "plt.xlabel('Price')\n",
    "plt.ylabel('Count')\n",
    "plt.title('Price distribution (0-5000)')\n",
    "plt.show()\n"
   ]
  },
  {
   "cell_type": "code",
   "execution_count": 160,
   "id": "df696ea7",
   "metadata": {},
   "outputs": [],
   "source": [
    "# threshold: 500\n",
    "df = df[(df['price'] > 500)]\n"
   ]
  },
  {
   "cell_type": "code",
   "execution_count": 161,
   "id": "9cb2a97e",
   "metadata": {},
   "outputs": [
    {
     "data": {
      "text/html": [
       "<pre style=\"white-space:pre;overflow-x:auto;line-height:normal;font-family:Menlo,'DejaVu Sans Mono',consolas,'Courier New',monospace\">NaN values for <span style=\"font-weight: bold\">year</span> :<span style=\"color: #008080; text-decoration-color: #008080; font-weight: bold\">1172</span> It's <span style=\"color: #008080; text-decoration-color: #008080; font-weight: bold\">0.3</span><span style=\"font-weight: bold\">%</span> of total data\n",
       "</pre>\n"
      ],
      "text/plain": [
       "NaN values for \u001b[1myear\u001b[0m :\u001b[1;36m1172\u001b[0m It's \u001b[1;36m0.3\u001b[0m\u001b[1m%\u001b[0m of total data\n"
      ]
     },
     "metadata": {},
     "output_type": "display_data"
    }
   ],
   "source": [
    "count_missing(\"year\")"
   ]
  },
  {
   "cell_type": "code",
   "execution_count": 162,
   "id": "3c0bdb81",
   "metadata": {},
   "outputs": [],
   "source": [
    "# We can drop NaN values for column \"year\"\n",
    "\n",
    "df = df.dropna(subset=['year'])"
   ]
  },
  {
   "cell_type": "code",
   "execution_count": 163,
   "id": "b90ef9ed",
   "metadata": {},
   "outputs": [
    {
     "data": {
      "text/html": [
       "<pre style=\"white-space:pre;overflow-x:auto;line-height:normal;font-family:Menlo,'DejaVu Sans Mono',consolas,'Courier New',monospace\">NaN values for <span style=\"font-weight: bold\">manufacturer</span> :<span style=\"color: #008080; text-decoration-color: #008080; font-weight: bold\">14226</span> It's <span style=\"color: #008080; text-decoration-color: #008080; font-weight: bold\">3.7</span><span style=\"font-weight: bold\">%</span> of total data\n",
       "</pre>\n"
      ],
      "text/plain": [
       "NaN values for \u001b[1mmanufacturer\u001b[0m :\u001b[1;36m14226\u001b[0m It's \u001b[1;36m3.7\u001b[0m\u001b[1m%\u001b[0m of total data\n"
      ]
     },
     "metadata": {},
     "output_type": "display_data"
    },
    {
     "data": {
      "text/html": [
       "<pre style=\"white-space:pre;overflow-x:auto;line-height:normal;font-family:Menlo,'DejaVu Sans Mono',consolas,'Courier New',monospace\">NaN values for <span style=\"font-weight: bold\">model</span> :<span style=\"color: #008080; text-decoration-color: #008080; font-weight: bold\">4474</span> It's <span style=\"color: #008080; text-decoration-color: #008080; font-weight: bold\">1.2</span><span style=\"font-weight: bold\">%</span> of total data\n",
       "</pre>\n"
      ],
      "text/plain": [
       "NaN values for \u001b[1mmodel\u001b[0m :\u001b[1;36m4474\u001b[0m It's \u001b[1;36m1.2\u001b[0m\u001b[1m%\u001b[0m of total data\n"
      ]
     },
     "metadata": {},
     "output_type": "display_data"
    },
    {
     "data": {
      "text/html": [
       "<pre style=\"white-space:pre;overflow-x:auto;line-height:normal;font-family:Menlo,'DejaVu Sans Mono',consolas,'Courier New',monospace\">NaN values for <span style=\"font-weight: bold\">title_status</span> :<span style=\"color: #008080; text-decoration-color: #008080; font-weight: bold\">6683</span> It's <span style=\"color: #008080; text-decoration-color: #008080; font-weight: bold\">1.7</span><span style=\"font-weight: bold\">%</span> of total data\n",
       "</pre>\n"
      ],
      "text/plain": [
       "NaN values for \u001b[1mtitle_status\u001b[0m :\u001b[1;36m6683\u001b[0m It's \u001b[1;36m1.7\u001b[0m\u001b[1m%\u001b[0m of total data\n"
      ]
     },
     "metadata": {},
     "output_type": "display_data"
    },
    {
     "data": {
      "text/html": [
       "<pre style=\"white-space:pre;overflow-x:auto;line-height:normal;font-family:Menlo,'DejaVu Sans Mono',consolas,'Courier New',monospace\">NaN values for <span style=\"font-weight: bold\">drive</span> :<span style=\"color: #008080; text-decoration-color: #008080; font-weight: bold\">116255</span> It's <span style=\"color: #008080; text-decoration-color: #008080; font-weight: bold\">30.4</span><span style=\"font-weight: bold\">%</span> of total data\n",
       "</pre>\n"
      ],
      "text/plain": [
       "NaN values for \u001b[1mdrive\u001b[0m :\u001b[1;36m116255\u001b[0m It's \u001b[1;36m30.4\u001b[0m\u001b[1m%\u001b[0m of total data\n"
      ]
     },
     "metadata": {},
     "output_type": "display_data"
    },
    {
     "data": {
      "text/html": [
       "<pre style=\"white-space:pre;overflow-x:auto;line-height:normal;font-family:Menlo,'DejaVu Sans Mono',consolas,'Courier New',monospace\">NaN values for <span style=\"font-weight: bold\">type</span> :<span style=\"color: #008080; text-decoration-color: #008080; font-weight: bold\">82304</span> It's <span style=\"color: #008080; text-decoration-color: #008080; font-weight: bold\">21.5</span><span style=\"font-weight: bold\">%</span> of total data\n",
       "</pre>\n"
      ],
      "text/plain": [
       "NaN values for \u001b[1mtype\u001b[0m :\u001b[1;36m82304\u001b[0m It's \u001b[1;36m21.5\u001b[0m\u001b[1m%\u001b[0m of total data\n"
      ]
     },
     "metadata": {},
     "output_type": "display_data"
    },
    {
     "data": {
      "text/html": [
       "<pre style=\"white-space:pre;overflow-x:auto;line-height:normal;font-family:Menlo,'DejaVu Sans Mono',consolas,'Courier New',monospace\">NaN values for <span style=\"font-weight: bold\">paint_color</span> :<span style=\"color: #008080; text-decoration-color: #008080; font-weight: bold\">110857</span> It's <span style=\"color: #008080; text-decoration-color: #008080; font-weight: bold\">29.0</span><span style=\"font-weight: bold\">%</span> of total data\n",
       "</pre>\n"
      ],
      "text/plain": [
       "NaN values for \u001b[1mpaint_color\u001b[0m :\u001b[1;36m110857\u001b[0m It's \u001b[1;36m29.0\u001b[0m\u001b[1m%\u001b[0m of total data\n"
      ]
     },
     "metadata": {},
     "output_type": "display_data"
    },
    {
     "data": {
      "text/html": [
       "<pre style=\"white-space:pre;overflow-x:auto;line-height:normal;font-family:Menlo,'DejaVu Sans Mono',consolas,'Courier New',monospace\">NaN values for <span style=\"font-weight: bold\">size</span> :<span style=\"color: #008080; text-decoration-color: #008080; font-weight: bold\">274530</span> It's <span style=\"color: #008080; text-decoration-color: #008080; font-weight: bold\">71.8</span><span style=\"font-weight: bold\">%</span> of total data\n",
       "</pre>\n"
      ],
      "text/plain": [
       "NaN values for \u001b[1msize\u001b[0m :\u001b[1;36m274530\u001b[0m It's \u001b[1;36m71.8\u001b[0m\u001b[1m%\u001b[0m of total data\n"
      ]
     },
     "metadata": {},
     "output_type": "display_data"
    },
    {
     "data": {
      "text/html": [
       "<pre style=\"white-space:pre;overflow-x:auto;line-height:normal;font-family:Menlo,'DejaVu Sans Mono',consolas,'Courier New',monospace\">NaN values for <span style=\"font-weight: bold\">transmission</span> :<span style=\"color: #008080; text-decoration-color: #008080; font-weight: bold\">1757</span> It's <span style=\"color: #008080; text-decoration-color: #008080; font-weight: bold\">0.5</span><span style=\"font-weight: bold\">%</span> of total data\n",
       "</pre>\n"
      ],
      "text/plain": [
       "NaN values for \u001b[1mtransmission\u001b[0m :\u001b[1;36m1757\u001b[0m It's \u001b[1;36m0.5\u001b[0m\u001b[1m%\u001b[0m of total data\n"
      ]
     },
     "metadata": {},
     "output_type": "display_data"
    },
    {
     "data": {
      "text/html": [
       "<pre style=\"white-space:pre;overflow-x:auto;line-height:normal;font-family:Menlo,'DejaVu Sans Mono',consolas,'Courier New',monospace\">NaN values for <span style=\"font-weight: bold\">fuel</span> :<span style=\"color: #008080; text-decoration-color: #008080; font-weight: bold\">2335</span> It's <span style=\"color: #008080; text-decoration-color: #008080; font-weight: bold\">0.6</span><span style=\"font-weight: bold\">%</span> of total data\n",
       "</pre>\n"
      ],
      "text/plain": [
       "NaN values for \u001b[1mfuel\u001b[0m :\u001b[1;36m2335\u001b[0m It's \u001b[1;36m0.6\u001b[0m\u001b[1m%\u001b[0m of total data\n"
      ]
     },
     "metadata": {},
     "output_type": "display_data"
    },
    {
     "data": {
      "text/html": [
       "<pre style=\"white-space:pre;overflow-x:auto;line-height:normal;font-family:Menlo,'DejaVu Sans Mono',consolas,'Courier New',monospace\">NaN values for <span style=\"font-weight: bold\">odometer</span> :<span style=\"color: #008080; text-decoration-color: #008080; font-weight: bold\">2059</span> It's <span style=\"color: #008080; text-decoration-color: #008080; font-weight: bold\">0.5</span><span style=\"font-weight: bold\">%</span> of total data\n",
       "</pre>\n"
      ],
      "text/plain": [
       "NaN values for \u001b[1modometer\u001b[0m :\u001b[1;36m2059\u001b[0m It's \u001b[1;36m0.5\u001b[0m\u001b[1m%\u001b[0m of total data\n"
      ]
     },
     "metadata": {},
     "output_type": "display_data"
    },
    {
     "data": {
      "text/html": [
       "<pre style=\"white-space:pre;overflow-x:auto;line-height:normal;font-family:Menlo,'DejaVu Sans Mono',consolas,'Courier New',monospace\">NaN values for <span style=\"font-weight: bold\">condition</span> :<span style=\"color: #008080; text-decoration-color: #008080; font-weight: bold\">143877</span> It's <span style=\"color: #008080; text-decoration-color: #008080; font-weight: bold\">37.6</span><span style=\"font-weight: bold\">%</span> of total data\n",
       "</pre>\n"
      ],
      "text/plain": [
       "NaN values for \u001b[1mcondition\u001b[0m :\u001b[1;36m143877\u001b[0m It's \u001b[1;36m37.6\u001b[0m\u001b[1m%\u001b[0m of total data\n"
      ]
     },
     "metadata": {},
     "output_type": "display_data"
    },
    {
     "data": {
      "text/html": [
       "<pre style=\"white-space:pre;overflow-x:auto;line-height:normal;font-family:Menlo,'DejaVu Sans Mono',consolas,'Courier New',monospace\">NaN values for <span style=\"font-weight: bold\">cylinders</span> :<span style=\"color: #008080; text-decoration-color: #008080; font-weight: bold\">156363</span> It's <span style=\"color: #008080; text-decoration-color: #008080; font-weight: bold\">40.9</span><span style=\"font-weight: bold\">%</span> of total data\n",
       "</pre>\n"
      ],
      "text/plain": [
       "NaN values for \u001b[1mcylinders\u001b[0m :\u001b[1;36m156363\u001b[0m It's \u001b[1;36m40.9\u001b[0m\u001b[1m%\u001b[0m of total data\n"
      ]
     },
     "metadata": {},
     "output_type": "display_data"
    }
   ],
   "source": [
    "column_names = [\"manufacturer\", \"model\", \"title_status\",\"drive\",\"type\",\"paint_color\",\n",
    "                \"size\",\"transmission\",\"fuel\",\"odometer\",\"condition\",\n",
    "               \"cylinders\"]\n",
    "\n",
    "for column in column_names:\n",
    "    count_missing(column)"
   ]
  },
  {
   "cell_type": "markdown",
   "id": "09d4beed",
   "metadata": {},
   "source": [
    "  ### Missing Value Handling Strategies\n",
    "  \n",
    "1. **Imputation Options**\n",
    "   - Add a `\"missing\"` category or fill with most frequent/mean/median.. \n",
    "   - Delete rows with missing values\n",
    "   - Or completely drop the column  \n",
    "\n",
    "2. **Build Model & Check Feature Importance**\n",
    "   - Train the model with both scenarios  \n",
    "   - If the column with `\"missing\"` contributes significantly (high feature importance) → keep it  \n",
    "   - If the column is unimportant or `\"missing\"` dominates and confuses the model → drop it  \n",
    " \n",
    " #### General Rule of Thumb for Categorical Features\n",
    "\n",
    "- **If < 5% NaN**  \n",
    "  → Fill with mode (most frequent) or `\"missing\"`  \n",
    "\n",
    "- **If 5–20% NaN**  \n",
    "  → `\"missing\"` is usually fine  \n",
    "\n",
    "- **If > 20–30% NaN**  \n",
    "  → Be careful: `\"missing\"` might dominate and confuse the model  \n",
    "  - Option 1: Run a feature importance test → if the column is not important, drop it  \n",
    "  - Option 2: Use `\"missing\"` but monitor model performance closely. Sometimes `\"missing\"` might be meaningful.\n",
    "  \n",
    "\n",
    "\n"
   ]
  },
  {
   "cell_type": "code",
   "execution_count": 164,
   "id": "782b2462",
   "metadata": {},
   "outputs": [
    {
     "data": {
      "text/plain": [
       "price                0\n",
       "year                 0\n",
       "manufacturer     14226\n",
       "model             4474\n",
       "condition       143877\n",
       "cylinders       156363\n",
       "fuel              2335\n",
       "odometer          2059\n",
       "title_status      6683\n",
       "transmission      1757\n",
       "drive           116255\n",
       "size            274530\n",
       "type             82304\n",
       "paint_color     110857\n",
       "state                0\n",
       "posting_date         0\n",
       "dtype: int64"
      ]
     },
     "execution_count": 164,
     "metadata": {},
     "output_type": "execute_result"
    }
   ],
   "source": [
    "df.isnull().sum()"
   ]
  },
  {
   "cell_type": "code",
   "execution_count": null,
   "id": "8cd260f4",
   "metadata": {},
   "outputs": [],
   "source": []
  },
  {
   "cell_type": "code",
   "execution_count": 165,
   "id": "4b2fad8b",
   "metadata": {},
   "outputs": [],
   "source": []
  },
  {
   "cell_type": "markdown",
   "id": "022d371c",
   "metadata": {},
   "source": [
    "\n",
    "|     Column     | NaN Values | Percentage | Missing Value Handling Method |\n",
    "|----------------|------------|------------|-------------------------------|\n",
    "| manufacturer   | 14181      |    3.7%    |   Fill with \"missing\"         |\n",
    "| model          | 4467       |    1.2%    |   Fill with \"missing\"         |\n",
    "| title_status   | 6564       |    1.7%    |   Fill with \"missing\"         |\n",
    "| drive          | 116040     |    30.4%   |   Fill with \"missing\"         |\n",
    "| type           | 82090      |    21.5%   |   Fill with \"missing\"         |\n",
    "| paint_color    | 110243     |    28.9%   |   Fill with \"missing\"         |\n",
    "| size           | 273768     |    71.7%   |   Fill with \"missing\"         |\n",
    "| transmission   | 1757       |    0.5%    |   Fill with most common       |\n",
    "| fuel           | 2335       |    0.6%    |   Fill with most common       |\n",
    "| odometer       | 2047       |    0.5%    |   Fill with median            |\n",
    "| condition      | 143356     |    37.6%   |   Fill with \"missing\"         |\n",
    "| cylinders      | 156164     |    40.9%   |   Fill with \"other\"           |"
   ]
  },
  {
   "cell_type": "code",
   "execution_count": 166,
   "id": "f6a69a3d",
   "metadata": {},
   "outputs": [],
   "source": [
    "column_names = [\"manufacturer\", \"model\", \"title_status\",\"drive\",\"type\",\"paint_color\",\"size\",\"condition\"]"
   ]
  },
  {
   "cell_type": "code",
   "execution_count": 167,
   "id": "251b2ae9",
   "metadata": {},
   "outputs": [],
   "source": [
    "for column in column_names:\n",
    "    df[column] = df[column].fillna(\"missing\")"
   ]
  },
  {
   "cell_type": "code",
   "execution_count": 168,
   "id": "066711bb",
   "metadata": {},
   "outputs": [
    {
     "data": {
      "text/plain": [
       "price                0\n",
       "year                 0\n",
       "manufacturer         0\n",
       "model                0\n",
       "condition            0\n",
       "cylinders       156363\n",
       "fuel              2335\n",
       "odometer          2059\n",
       "title_status         0\n",
       "transmission      1757\n",
       "drive                0\n",
       "size                 0\n",
       "type                 0\n",
       "paint_color          0\n",
       "state                0\n",
       "posting_date         0\n",
       "dtype: int64"
      ]
     },
     "execution_count": 168,
     "metadata": {},
     "output_type": "execute_result"
    }
   ],
   "source": [
    "df.isnull().sum()"
   ]
  },
  {
   "cell_type": "code",
   "execution_count": 169,
   "id": "e946a775",
   "metadata": {},
   "outputs": [],
   "source": [
    "# Find the most common value in \"transmission\" and \"fuel column\n",
    "most_common_t = df['transmission'].mode()[0]\n",
    "most_common_f = df['fuel'].mode()[0]\n",
    "\n",
    "# Fill NaN values with the most common value\n",
    "df['transmission'] = df['transmission'].fillna(most_common_t)\n",
    "df['fuel'] = df['fuel'].fillna(most_common_f)\n"
   ]
  },
  {
   "cell_type": "code",
   "execution_count": 170,
   "id": "bb098341",
   "metadata": {},
   "outputs": [],
   "source": [
    "#Find median for \"odometer\" column\n",
    "df['odometer'] = df['odometer'].replace(1, np.nan)\n",
    "median_value = df['odometer'].median()\n",
    "\n",
    "# Fill NaN values with median value\n",
    "df['odometer'] = df['odometer'].fillna(median_value)"
   ]
  },
  {
   "cell_type": "code",
   "execution_count": null,
   "id": "1798ec2f",
   "metadata": {},
   "outputs": [],
   "source": []
  },
  {
   "cell_type": "code",
   "execution_count": 171,
   "id": "2219af86",
   "metadata": {},
   "outputs": [
    {
     "data": {
      "text/plain": [
       "6 cylinders     86352\n",
       "4 cylinders     69810\n",
       "8 cylinders     65439\n",
       "5 cylinders      1648\n",
       "10 cylinders     1158\n",
       "other            1045\n",
       "3 cylinders       580\n",
       "12 cylinders      198\n",
       "Name: cylinders, dtype: int64"
      ]
     },
     "execution_count": 171,
     "metadata": {},
     "output_type": "execute_result"
    }
   ],
   "source": [
    "df[\"cylinders\"].value_counts()"
   ]
  },
  {
   "cell_type": "code",
   "execution_count": 172,
   "id": "5304ce0d",
   "metadata": {},
   "outputs": [],
   "source": [
    "# We can turn NaN values into \"other\"\n",
    "df[\"cylinders\"] = df[\"cylinders\"].fillna(\"other\") "
   ]
  },
  {
   "cell_type": "code",
   "execution_count": 173,
   "id": "f4d19cf1",
   "metadata": {},
   "outputs": [
    {
     "data": {
      "text/plain": [
       "price           0\n",
       "year            0\n",
       "manufacturer    0\n",
       "model           0\n",
       "condition       0\n",
       "cylinders       0\n",
       "fuel            0\n",
       "odometer        0\n",
       "title_status    0\n",
       "transmission    0\n",
       "drive           0\n",
       "size            0\n",
       "type            0\n",
       "paint_color     0\n",
       "state           0\n",
       "posting_date    0\n",
       "dtype: int64"
      ]
     },
     "execution_count": 173,
     "metadata": {},
     "output_type": "execute_result"
    }
   ],
   "source": [
    "df.isnull().sum()"
   ]
  },
  {
   "cell_type": "markdown",
   "id": "50396d92",
   "metadata": {},
   "source": [
    "### Detecting and Handling Outliers"
   ]
  },
  {
   "cell_type": "code",
   "execution_count": 174,
   "id": "aa39e513",
   "metadata": {},
   "outputs": [
    {
     "data": {
      "text/html": [
       "<pre style=\"white-space:pre;overflow-x:auto;line-height:normal;font-family:Menlo,'DejaVu Sans Mono',consolas,'Courier New',monospace\">Rows kept: <span style=\"color: #008080; text-decoration-color: #008080; font-weight: bold\">381898</span> <span style=\"color: #800080; text-decoration-color: #800080\">/</span> <span style=\"color: #008080; text-decoration-color: #008080; font-weight: bold\">382593</span> <span style=\"font-weight: bold\">(</span><span style=\"color: #008080; text-decoration-color: #008080; font-weight: bold\">99.8183448207364</span>%<span style=\"font-weight: bold\">)</span>\n",
       "</pre>\n"
      ],
      "text/plain": [
       "Rows kept: \u001b[1;36m381898\u001b[0m \u001b[35m/\u001b[0m \u001b[1;36m382593\u001b[0m \u001b[1m(\u001b[0m\u001b[1;36m99.8183448207364\u001b[0m%\u001b[1m)\u001b[0m\n"
      ]
     },
     "metadata": {},
     "output_type": "display_data"
    }
   ],
   "source": [
    "total = len(df)\n",
    "filtered = df[(df['price'] > 500) & (df['price'] < 100_000)]\n",
    "percentage = len(filtered) / total * 100\n",
    "\n",
    "print(f\"Rows kept: {len(filtered)} / {total} ({percentage}%)\")\n",
    "\n"
   ]
  },
  {
   "cell_type": "code",
   "execution_count": 175,
   "id": "2ce9372d",
   "metadata": {},
   "outputs": [],
   "source": [
    "df = filtered"
   ]
  },
  {
   "cell_type": "code",
   "execution_count": 176,
   "id": "99e756f3",
   "metadata": {},
   "outputs": [
    {
     "data": {
      "image/png": "[encoded data removed]",
      "text/plain": [
       "<Figure size 1200x600 with 2 Axes>"
      ]
     },
     "metadata": {},
     "output_type": "display_data"
    }
   ],
   "source": [
    "plt.figure(figsize=(12,6))\n",
    "\n",
    "# Histogram\n",
    "plt.subplot(1,2,1)\n",
    "sns.histplot(df['price'], bins=100, kde=True)\n",
    "plt.title(\"Histogram of Price\")\n",
    "\n",
    "# Boxplot\n",
    "plt.subplot(1,2,2)\n",
    "sns.boxplot(x=df['price'])\n",
    "plt.title(\"Boxplot of Price\")\n",
    "\n",
    "plt.show()"
   ]
  },
  {
   "cell_type": "code",
   "execution_count": 177,
   "id": "248048e0",
   "metadata": {},
   "outputs": [
    {
     "data": {
      "image/png": "[encoded data removed]",
      "text/plain": [
       "<Figure size 1200x600 with 2 Axes>"
      ]
     },
     "metadata": {},
     "output_type": "display_data"
    }
   ],
   "source": [
    "plt.figure(figsize=(12,6))\n",
    "\n",
    "# Histogram\n",
    "plt.subplot(1,2,1)\n",
    "sns.histplot(df['odometer'], bins=100, kde=True)\n",
    "plt.title(\"Histogram of Odometer\")\n",
    "\n",
    "# Boxplot\n",
    "plt.subplot(1,2,2)\n",
    "sns.boxplot(x=df['odometer'])\n",
    "plt.title(\"Boxplot of Odometer\")\n",
    "\n",
    "plt.show()"
   ]
  },
  {
   "cell_type": "code",
   "execution_count": 178,
   "id": "59cad6b6",
   "metadata": {},
   "outputs": [
    {
     "data": {
      "image/png": "[encoded data removed]",
      "text/plain": [
       "<Figure size 1400x1000 with 4 Axes>"
      ]
     },
     "metadata": {},
     "output_type": "display_data"
    }
   ],
   "source": [
    "# Log transformation\n",
    "df['price_log'] = np.log1p(df['price'])  # log1p = log(1+x), safe for 0 values\n",
    "df['odometer_log'] = np.log1p(df['odometer'])\n",
    "df = df.drop([\"price\",\"odometer\"], axis = 1)\n",
    "\n",
    "fig, axes = plt.subplots(2, 2, figsize=(14, 10))  # 2 rows, 2 columns\n",
    "\n",
    "# ---------- Price Log ----------\n",
    "sns.histplot(df['price_log'], bins=100, kde=True, ax=axes[0,0])\n",
    "axes[0,0].set_title(\"Log-Transformed Price Distribution\")\n",
    "\n",
    "sns.boxplot(x=df['price_log'], ax=axes[0,1])\n",
    "axes[0,1].set_title(\"Boxplot of Log-Transformed Price\")\n",
    "\n",
    "# ---------- Odometer Log ----------\n",
    "sns.histplot(df['odometer_log'], bins=100, kde=True, ax=axes[1,0])\n",
    "axes[1,0].set_title(\"Log-Transformed Odometer Distribution\")\n",
    "\n",
    "sns.boxplot(x=df['odometer_log'], ax=axes[1,1])\n",
    "axes[1,1].set_title(\"Boxplot of Log-Transformed Odometer\")\n",
    "\n",
    "plt.tight_layout()\n",
    "plt.show()\n"
   ]
  },
  {
   "cell_type": "markdown",
   "id": "4278d7d9",
   "metadata": {},
   "source": [
    "## 4️⃣ Feature Engineering\n"
   ]
  },
  {
   "cell_type": "code",
   "execution_count": 179,
   "id": "a6487832",
   "metadata": {},
   "outputs": [],
   "source": [
    "df['posting_date'] = pd.to_datetime(df['posting_date'], utc = True)  \n",
    "\n",
    "# Let's create a new column for car age\n",
    "df['car_age'] = df['posting_date'].dt.year - df['year']\n",
    "\n",
    "\n",
    "# Another column for day type\n",
    "df['posting_day_type'] = df['posting_date'].dt.weekday.apply(lambda x: 0 if x >= 5 else 1)\n"
   ]
  },
  {
   "cell_type": "code",
   "execution_count": 180,
   "id": "581ba726",
   "metadata": {},
   "outputs": [],
   "source": [
    "# We can drop \"posting_date\" cloumn\n",
    "df = df.drop([\"posting_date\"], axis = 1)"
   ]
  },
  {
   "cell_type": "markdown",
   "id": "d036e9ad",
   "metadata": {},
   "source": [
    "## 5️⃣ Feature Encoding"
   ]
  },
  {
   "cell_type": "code",
   "execution_count": 181,
   "id": "692e1cdb",
   "metadata": {},
   "outputs": [
    {
     "data": {
      "text/plain": [
       "Index(['year', 'manufacturer', 'model', 'condition', 'cylinders', 'fuel',\n",
       "       'title_status', 'transmission', 'drive', 'size', 'type', 'paint_color',\n",
       "       'state', 'price_log', 'odometer_log', 'car_age', 'posting_day_type'],\n",
       "      dtype='object')"
      ]
     },
     "execution_count": 181,
     "metadata": {},
     "output_type": "execute_result"
    }
   ],
   "source": [
    "df.columns"
   ]
  },
  {
   "cell_type": "code",
   "execution_count": 182,
   "id": "35f1de35",
   "metadata": {},
   "outputs": [],
   "source": [
    "# Check if one-hot encoding is applicable or not\n",
    "def check_percentage(column):\n",
    "    count = df[column].value_counts()/len(df)*100 \n",
    "    percentage = count.iloc[:5].sum()\n",
    "    print(f\"Top 5 of {column} corresponds to {percentage}% of total data.\")"
   ]
  },
  {
   "cell_type": "code",
   "execution_count": 183,
   "id": "ae8d3deb",
   "metadata": {},
   "outputs": [
    {
     "data": {
      "text/plain": [
       "missing    110541\n",
       "white       71397\n",
       "black       57486\n",
       "silver      39332\n",
       "blue        28931\n",
       "red         28326\n",
       "grey        22203\n",
       "green        6917\n",
       "custom       6192\n",
       "brown        6098\n",
       "yellow       1995\n",
       "orange       1816\n",
       "purple        664\n",
       "Name: paint_color, dtype: int64"
      ]
     },
     "execution_count": 183,
     "metadata": {},
     "output_type": "execute_result"
    }
   ],
   "source": [
    "df[\"paint_color\"].value_counts()"
   ]
  },
  {
   "cell_type": "code",
   "execution_count": 184,
   "id": "396bbcca",
   "metadata": {},
   "outputs": [],
   "source": [
    "# we can change the colors other than the top 7 to \"other\"\n",
    "top5_colors = df['paint_color'].value_counts().nlargest(7).index.tolist()\n",
    "df['paint_color'] = df['paint_color'].apply(lambda x: x if x in top5_colors else 'other')"
   ]
  },
  {
   "cell_type": "code",
   "execution_count": 185,
   "id": "f5f435ff",
   "metadata": {},
   "outputs": [
    {
     "data": {
      "text/plain": [
       "missing    110541\n",
       "white       71397\n",
       "black       57486\n",
       "silver      39332\n",
       "blue        28931\n",
       "red         28326\n",
       "other       23682\n",
       "grey        22203\n",
       "Name: paint_color, dtype: int64"
      ]
     },
     "execution_count": 185,
     "metadata": {},
     "output_type": "execute_result"
    }
   ],
   "source": [
    "df[\"paint_color\"].value_counts() "
   ]
  },
  {
   "cell_type": "code",
   "execution_count": 186,
   "id": "85914bdd",
   "metadata": {},
   "outputs": [
    {
     "data": {
      "text/html": [
       "<pre style=\"white-space:pre;overflow-x:auto;line-height:normal;font-family:Menlo,'DejaVu Sans Mono',consolas,'Courier New',monospace\">Top <span style=\"color: #008080; text-decoration-color: #008080; font-weight: bold\">5</span> of paint_color corresponds to <span style=\"color: #008080; text-decoration-color: #008080; font-weight: bold\">80.56784795940277</span>% of total data.\n",
       "</pre>\n"
      ],
      "text/plain": [
       "Top \u001b[1;36m5\u001b[0m of paint_color corresponds to \u001b[1;36m80.56784795940277\u001b[0m% of total data.\n"
      ]
     },
     "metadata": {},
     "output_type": "display_data"
    }
   ],
   "source": [
    "check_percentage(\"paint_color\")\n",
    "# We can apply one-hot encoding.\n",
    "# \"missing\" can contribute to model."
   ]
  },
  {
   "cell_type": "code",
   "execution_count": null,
   "id": "d6058ca9",
   "metadata": {},
   "outputs": [],
   "source": []
  },
  {
   "cell_type": "code",
   "execution_count": 187,
   "id": "3243bd0d",
   "metadata": {},
   "outputs": [
    {
     "data": {
      "text/plain": [
       "missing        82109\n",
       "sedan          77673\n",
       "SUV            68277\n",
       "pickup         40783\n",
       "truck          29965\n",
       "other          19562\n",
       "coupe          17627\n",
       "hatchback      15613\n",
       "wagon           9775\n",
       "van             7737\n",
       "convertible     7233\n",
       "mini-van        4496\n",
       "offroad          585\n",
       "bus              463\n",
       "Name: type, dtype: int64"
      ]
     },
     "execution_count": 187,
     "metadata": {},
     "output_type": "execute_result"
    }
   ],
   "source": [
    "df[\"type\"].value_counts()"
   ]
  },
  {
   "cell_type": "code",
   "execution_count": 188,
   "id": "6a1a4fe4",
   "metadata": {},
   "outputs": [],
   "source": [
    "# Get Top 5 categories\n",
    "top5_types = df['type'].value_counts().nlargest(5).index.tolist()\n",
    "\n",
    "# Change everything except the top 5 to \"other\"\n",
    "df['type'] = df['type'].apply(lambda x: x if x in top5_types else 'other')"
   ]
  },
  {
   "cell_type": "code",
   "execution_count": 189,
   "id": "955841fe",
   "metadata": {},
   "outputs": [
    {
     "data": {
      "text/html": [
       "<pre style=\"white-space:pre;overflow-x:auto;line-height:normal;font-family:Menlo,'DejaVu Sans Mono',consolas,'Courier New',monospace\">Top <span style=\"color: #008080; text-decoration-color: #008080; font-weight: bold\">5</span> of type corresponds to <span style=\"color: #008080; text-decoration-color: #008080; font-weight: bold\">92.15366406736877</span>% of total data.\n",
       "</pre>\n"
      ],
      "text/plain": [
       "Top \u001b[1;36m5\u001b[0m of type corresponds to \u001b[1;36m92.15366406736877\u001b[0m% of total data.\n"
      ]
     },
     "metadata": {},
     "output_type": "display_data"
    }
   ],
   "source": [
    "check_percentage(\"type\")\n",
    "# We can apply one-hot encoding"
   ]
  },
  {
   "cell_type": "code",
   "execution_count": null,
   "id": "6440a983",
   "metadata": {},
   "outputs": [],
   "source": []
  },
  {
   "cell_type": "code",
   "execution_count": 190,
   "id": "33e8ddad",
   "metadata": {},
   "outputs": [
    {
     "data": {
      "text/plain": [
       "other           157151\n",
       "6 cylinders      86286\n",
       "4 cylinders      69800\n",
       "8 cylinders      65160\n",
       "5 cylinders       1646\n",
       "10 cylinders      1113\n",
       "3 cylinders        578\n",
       "12 cylinders       164\n",
       "Name: cylinders, dtype: int64"
      ]
     },
     "execution_count": 190,
     "metadata": {},
     "output_type": "execute_result"
    }
   ],
   "source": [
    "df[\"cylinders\"].value_counts()"
   ]
  },
  {
   "cell_type": "code",
   "execution_count": 191,
   "id": "3707b065",
   "metadata": {},
   "outputs": [],
   "source": [
    "# Get Top 5 categories\n",
    "top5_cylinders = df['cylinders'].value_counts().nlargest(5).index\n",
    "\n",
    "# Change everything except the top 5 to \"other\"\n",
    "df['cylinders'] = df['cylinders'].apply(lambda x: x if x in top5_cylinders else 'other')"
   ]
  },
  {
   "cell_type": "markdown",
   "id": "3c37a7c5",
   "metadata": {},
   "source": [
    "### One-Hot Encoding"
   ]
  },
  {
   "cell_type": "code",
   "execution_count": 192,
   "id": "7a86985b",
   "metadata": {},
   "outputs": [],
   "source": [
    "def one_hot_encoding(df, column):\n",
    "    dummies = pd.get_dummies(df[column], prefix = column, drop_first = True)\n",
    "    df_new = pd.concat([df.drop(column, axis = 1), dummies], axis = 1)\n",
    "    return df_new"
   ]
  },
  {
   "cell_type": "code",
   "execution_count": 193,
   "id": "485b749c",
   "metadata": {},
   "outputs": [],
   "source": [
    "columns = [\"paint_color\",\"type\",\"cylinders\",\"fuel\",\"title_status\",\"transmission\",\"drive\",\"size\"]"
   ]
  },
  {
   "cell_type": "code",
   "execution_count": 194,
   "id": "0dbe9e63",
   "metadata": {},
   "outputs": [],
   "source": [
    "for column in columns:\n",
    "    df = one_hot_encoding(df, column)"
   ]
  },
  {
   "cell_type": "code",
   "execution_count": 195,
   "id": "9b6ba64f",
   "metadata": {},
   "outputs": [
    {
     "data": {
      "text/plain": [
       "Index(['year', 'manufacturer', 'model', 'condition', 'state', 'price_log',\n",
       "       'odometer_log', 'car_age', 'posting_day_type', 'paint_color_blue',\n",
       "       'paint_color_grey', 'paint_color_missing', 'paint_color_other',\n",
       "       'paint_color_red', 'paint_color_silver', 'paint_color_white',\n",
       "       'type_missing', 'type_other', 'type_pickup', 'type_sedan', 'type_truck',\n",
       "       'cylinders_5 cylinders', 'cylinders_6 cylinders',\n",
       "       'cylinders_8 cylinders', 'cylinders_other', 'fuel_electric', 'fuel_gas',\n",
       "       'fuel_hybrid', 'fuel_other', 'title_status_lien',\n",
       "       'title_status_missing', 'title_status_parts only',\n",
       "       'title_status_rebuilt', 'title_status_salvage', 'transmission_manual',\n",
       "       'transmission_other', 'drive_fwd', 'drive_missing', 'drive_rwd',\n",
       "       'size_full-size', 'size_mid-size', 'size_missing', 'size_sub-compact'],\n",
       "      dtype='object')"
      ]
     },
     "execution_count": 195,
     "metadata": {},
     "output_type": "execute_result"
    }
   ],
   "source": [
    "df.columns"
   ]
  },
  {
   "cell_type": "markdown",
   "id": "17713f5f",
   "metadata": {},
   "source": [
    "### Frequency Encoding"
   ]
  },
  {
   "cell_type": "code",
   "execution_count": 196,
   "id": "e5c4672f",
   "metadata": {},
   "outputs": [],
   "source": [
    "# Frequency encoding \n",
    "\n",
    "freq_encoding_s = df['state'].value_counts().to_dict()\n",
    "freq_encoding_m = df['model'].value_counts().to_dict()\n",
    "freq_encoding_mf = df['manufacturer'].value_counts().to_dict()\n",
    "\n",
    "# New column\n",
    "df['state_freq_encoded'] = df['state'].map(freq_encoding_s)\n",
    "df['model_freq_encoded'] = df['model'].map(freq_encoding_m)\n",
    "df['mf_freq_encoded'] = df['manufacturer'].map(freq_encoding_mf)"
   ]
  },
  {
   "cell_type": "code",
   "execution_count": 197,
   "id": "96f647d0",
   "metadata": {},
   "outputs": [],
   "source": [
    "df = df.drop([\"state\", \"model\",\"manufacturer\"], axis = 1)"
   ]
  },
  {
   "cell_type": "code",
   "execution_count": 144,
   "id": "7feea8e3",
   "metadata": {},
   "outputs": [],
   "source": []
  },
  {
   "cell_type": "markdown",
   "id": "66a67da1",
   "metadata": {},
   "source": [
    "### Ordinal Encoding"
   ]
  },
  {
   "cell_type": "code",
   "execution_count": 198,
   "id": "8e07b689",
   "metadata": {},
   "outputs": [],
   "source": [
    "condition_mapping = {\n",
    "    \"new\": 6,\n",
    "    \"like new\": 5,\n",
    "    \"excellent\": 4,\n",
    "    \"good\": 3,\n",
    "    \"fair\": 2,\n",
    "    \"salvage\":1,\n",
    "    \"other\": 0,       # unknown/rare categories\n",
    "    \"missing\": 0\n",
    "}"
   ]
  },
  {
   "cell_type": "code",
   "execution_count": 199,
   "id": "31e2cef2",
   "metadata": {},
   "outputs": [],
   "source": [
    "# Apply ordinal encoding\n",
    "df['condition_encoded'] = df['condition'].map(condition_mapping)"
   ]
  },
  {
   "cell_type": "code",
   "execution_count": 200,
   "id": "cf9c82b3",
   "metadata": {},
   "outputs": [],
   "source": [
    "df = df.drop([\"condition\"], axis = 1)"
   ]
  },
  {
   "cell_type": "code",
   "execution_count": 201,
   "id": "df9021d1",
   "metadata": {},
   "outputs": [
    {
     "data": {
      "text/plain": [
       "Index(['year', 'price_log', 'odometer_log', 'car_age', 'posting_day_type',\n",
       "       'paint_color_blue', 'paint_color_grey', 'paint_color_missing',\n",
       "       'paint_color_other', 'paint_color_red', 'paint_color_silver',\n",
       "       'paint_color_white', 'type_missing', 'type_other', 'type_pickup',\n",
       "       'type_sedan', 'type_truck', 'cylinders_5 cylinders',\n",
       "       'cylinders_6 cylinders', 'cylinders_8 cylinders', 'cylinders_other',\n",
       "       'fuel_electric', 'fuel_gas', 'fuel_hybrid', 'fuel_other',\n",
       "       'title_status_lien', 'title_status_missing', 'title_status_parts only',\n",
       "       'title_status_rebuilt', 'title_status_salvage', 'transmission_manual',\n",
       "       'transmission_other', 'drive_fwd', 'drive_missing', 'drive_rwd',\n",
       "       'size_full-size', 'size_mid-size', 'size_missing', 'size_sub-compact',\n",
       "       'state_freq_encoded', 'model_freq_encoded', 'mf_freq_encoded',\n",
       "       'condition_encoded'],\n",
       "      dtype='object')"
      ]
     },
     "execution_count": 201,
     "metadata": {},
     "output_type": "execute_result"
    }
   ],
   "source": [
    "df.columns"
   ]
  },
  {
   "cell_type": "markdown",
   "id": "0b422ab4",
   "metadata": {},
   "source": [
    "## 6️⃣Train/Test Split"
   ]
  },
  {
   "cell_type": "code",
   "execution_count": 203,
   "id": "49825fcd",
   "metadata": {},
   "outputs": [],
   "source": [
    "X = df.drop('price_log' , axis=1) ## independent data"
   ]
  },
  {
   "cell_type": "code",
   "execution_count": 204,
   "id": "1cbfe3d8",
   "metadata": {},
   "outputs": [],
   "source": [
    "y = df['price_log'] ## Dependent or Target data "
   ]
  },
  {
   "cell_type": "code",
   "execution_count": 205,
   "id": "daf997b9",
   "metadata": {},
   "outputs": [],
   "source": [
    "## getting training & testing data !\n",
    "X_train, X_test, y_train, y_test = train_test_split(X, y, test_size=0.25, random_state=42)\n",
    "##In train_test_split, random_state sets the seed for the random number generator, ensuring that the split of data into training and test sets is reproducible. Using the same random_state value always gives the same split."
   ]
  },
  {
   "cell_type": "markdown",
   "id": "4fbee1e0",
   "metadata": {},
   "source": [
    "## 7️⃣Model Selection and Training"
   ]
  },
  {
   "cell_type": "code",
   "execution_count": 206,
   "id": "db62acb4",
   "metadata": {},
   "outputs": [],
   "source": [
    "# Initialize the model with default value of parameters..\n",
    "rf_model = RandomForestRegressor()"
   ]
  },
  {
   "cell_type": "code",
   "execution_count": 207,
   "id": "dd921112",
   "metadata": {},
   "outputs": [
    {
     "data": {
      "text/html": [
       "<style>#sk-container-id-1 {\n",
       "  /* Definition of color scheme common for light and dark mode */\n",
       "  --sklearn-color-text: #000;\n",
       "  --sklearn-color-text-muted: #666;\n",
       "  --sklearn-color-line: gray;\n",
       "  /* Definition of color scheme for unfitted estimators */\n",
       "  --sklearn-color-unfitted-level-0: #fff5e6;\n",
       "  --sklearn-color-unfitted-level-1: #f6e4d2;\n",
       "  --sklearn-color-unfitted-level-2: #ffe0b3;\n",
       "  --sklearn-color-unfitted-level-3: chocolate;\n",
       "  /* Definition of color scheme for fitted estimators */\n",
       "  --sklearn-color-fitted-level-0: #f0f8ff;\n",
       "  --sklearn-color-fitted-level-1: #d4ebff;\n",
       "  --sklearn-color-fitted-level-2: #b3dbfd;\n",
       "  --sklearn-color-fitted-level-3: cornflowerblue;\n",
       "\n",
       "  /* Specific color for light theme */\n",
       "  --sklearn-color-text-on-default-background: var(--sg-text-color, var(--theme-code-foreground, var(--jp-content-font-color1, black)));\n",
       "  --sklearn-color-background: var(--sg-background-color, var(--theme-background, var(--jp-layout-color0, white)));\n",
       "  --sklearn-color-border-box: var(--sg-text-color, var(--theme-code-foreground, var(--jp-content-font-color1, black)));\n",
       "  --sklearn-color-icon: #696969;\n",
       "\n",
       "  @media (prefers-color-scheme: dark) {\n",
       "    /* Redefinition of color scheme for dark theme */\n",
       "    --sklearn-color-text-on-default-background: var(--sg-text-color, var(--theme-code-foreground, var(--jp-content-font-color1, white)));\n",
       "    --sklearn-color-background: var(--sg-background-color, var(--theme-background, var(--jp-layout-color0, #111)));\n",
       "    --sklearn-color-border-box: var(--sg-text-color, var(--theme-code-foreground, var(--jp-content-font-color1, white)));\n",
       "    --sklearn-color-icon: #878787;\n",
       "  }\n",
       "}\n",
       "\n",
       "#sk-container-id-1 {\n",
       "  color: var(--sklearn-color-text);\n",
       "}\n",
       "\n",
       "#sk-container-id-1 pre {\n",
       "  padding: 0;\n",
       "}\n",
       "\n",
       "#sk-container-id-1 input.sk-hidden--visually {\n",
       "  border: 0;\n",
       "  clip: rect(1px 1px 1px 1px);\n",
       "  clip: rect(1px, 1px, 1px, 1px);\n",
       "  height: 1px;\n",
       "  margin: -1px;\n",
       "  overflow: hidden;\n",
       "  padding: 0;\n",
       "  position: absolute;\n",
       "  width: 1px;\n",
       "}\n",
       "\n",
       "#sk-container-id-1 div.sk-dashed-wrapped {\n",
       "  border: 1px dashed var(--sklearn-color-line);\n",
       "  margin: 0 0.4em 0.5em 0.4em;\n",
       "  box-sizing: border-box;\n",
       "  padding-bottom: 0.4em;\n",
       "  background-color: var(--sklearn-color-background);\n",
       "}\n",
       "\n",
       "#sk-container-id-1 div.sk-container {\n",
       "  /* jupyter's `normalize.less` sets `[hidden] { display: none; }`\n",
       "     but bootstrap.min.css set `[hidden] { display: none !important; }`\n",
       "     so we also need the `!important` here to be able to override the\n",
       "     default hidden behavior on the sphinx rendered scikit-learn.org.\n",
       "     See: https://github.com/scikit-learn/scikit-learn/issues/21755 */\n",
       "  display: inline-block !important;\n",
       "  position: relative;\n",
       "}\n",
       "\n",
       "#sk-container-id-1 div.sk-text-repr-fallback {\n",
       "  display: none;\n",
       "}\n",
       "\n",
       "div.sk-parallel-item,\n",
       "div.sk-serial,\n",
       "div.sk-item {\n",
       "  /* draw centered vertical line to link estimators */\n",
       "  background-image: linear-gradient(var(--sklearn-color-text-on-default-background), var(--sklearn-color-text-on-default-background));\n",
       "  background-size: 2px 100%;\n",
       "  background-repeat: no-repeat;\n",
       "  background-position: center center;\n",
       "}\n",
       "\n",
       "/* Parallel-specific style estimator block */\n",
       "\n",
       "#sk-container-id-1 div.sk-parallel-item::after {\n",
       "  content: \"\";\n",
       "  width: 100%;\n",
       "  border-bottom: 2px solid var(--sklearn-color-text-on-default-background);\n",
       "  flex-grow: 1;\n",
       "}\n",
       "\n",
       "#sk-container-id-1 div.sk-parallel {\n",
       "  display: flex;\n",
       "  align-items: stretch;\n",
       "  justify-content: center;\n",
       "  background-color: var(--sklearn-color-background);\n",
       "  position: relative;\n",
       "}\n",
       "\n",
       "#sk-container-id-1 div.sk-parallel-item {\n",
       "  display: flex;\n",
       "  flex-direction: column;\n",
       "}\n",
       "\n",
       "#sk-container-id-1 div.sk-parallel-item:first-child::after {\n",
       "  align-self: flex-end;\n",
       "  width: 50%;\n",
       "}\n",
       "\n",
       "#sk-container-id-1 div.sk-parallel-item:last-child::after {\n",
       "  align-self: flex-start;\n",
       "  width: 50%;\n",
       "}\n",
       "\n",
       "#sk-container-id-1 div.sk-parallel-item:only-child::after {\n",
       "  width: 0;\n",
       "}\n",
       "\n",
       "/* Serial-specific style estimator block */\n",
       "\n",
       "#sk-container-id-1 div.sk-serial {\n",
       "  display: flex;\n",
       "  flex-direction: column;\n",
       "  align-items: center;\n",
       "  background-color: var(--sklearn-color-background);\n",
       "  padding-right: 1em;\n",
       "  padding-left: 1em;\n",
       "}\n",
       "\n",
       "\n",
       "/* Toggleable style: style used for estimator/Pipeline/ColumnTransformer box that is\n",
       "clickable and can be expanded/collapsed.\n",
       "- Pipeline and ColumnTransformer use this feature and define the default style\n",
       "- Estimators will overwrite some part of the style using the `sk-estimator` class\n",
       "*/\n",
       "\n",
       "/* Pipeline and ColumnTransformer style (default) */\n",
       "\n",
       "#sk-container-id-1 div.sk-toggleable {\n",
       "  /* Default theme specific background. It is overwritten whether we have a\n",
       "  specific estimator or a Pipeline/ColumnTransformer */\n",
       "  background-color: var(--sklearn-color-background);\n",
       "}\n",
       "\n",
       "/* Toggleable label */\n",
       "#sk-container-id-1 label.sk-toggleable__label {\n",
       "  cursor: pointer;\n",
       "  display: flex;\n",
       "  width: 100%;\n",
       "  margin-bottom: 0;\n",
       "  padding: 0.5em;\n",
       "  box-sizing: border-box;\n",
       "  text-align: center;\n",
       "  align-items: start;\n",
       "  justify-content: space-between;\n",
       "  gap: 0.5em;\n",
       "}\n",
       "\n",
       "#sk-container-id-1 label.sk-toggleable__label .caption {\n",
       "  font-size: 0.6rem;\n",
       "  font-weight: lighter;\n",
       "  color: var(--sklearn-color-text-muted);\n",
       "}\n",
       "\n",
       "#sk-container-id-1 label.sk-toggleable__label-arrow:before {\n",
       "  /* Arrow on the left of the label */\n",
       "  content: \"▸\";\n",
       "  float: left;\n",
       "  margin-right: 0.25em;\n",
       "  color: var(--sklearn-color-icon);\n",
       "}\n",
       "\n",
       "#sk-container-id-1 label.sk-toggleable__label-arrow:hover:before {\n",
       "  color: var(--sklearn-color-text);\n",
       "}\n",
       "\n",
       "/* Toggleable content - dropdown */\n",
       "\n",
       "#sk-container-id-1 div.sk-toggleable__content {\n",
       "  display: none;\n",
       "  text-align: left;\n",
       "  /* unfitted */\n",
       "  background-color: var(--sklearn-color-unfitted-level-0);\n",
       "}\n",
       "\n",
       "#sk-container-id-1 div.sk-toggleable__content.fitted {\n",
       "  /* fitted */\n",
       "  background-color: var(--sklearn-color-fitted-level-0);\n",
       "}\n",
       "\n",
       "#sk-container-id-1 div.sk-toggleable__content pre {\n",
       "  margin: 0.2em;\n",
       "  border-radius: 0.25em;\n",
       "  color: var(--sklearn-color-text);\n",
       "  /* unfitted */\n",
       "  background-color: var(--sklearn-color-unfitted-level-0);\n",
       "}\n",
       "\n",
       "#sk-container-id-1 div.sk-toggleable__content.fitted pre {\n",
       "  /* unfitted */\n",
       "  background-color: var(--sklearn-color-fitted-level-0);\n",
       "}\n",
       "\n",
       "#sk-container-id-1 input.sk-toggleable__control:checked~div.sk-toggleable__content {\n",
       "  /* Expand drop-down */\n",
       "  display: block;\n",
       "  width: 100%;\n",
       "  overflow: visible;\n",
       "}\n",
       "\n",
       "#sk-container-id-1 input.sk-toggleable__control:checked~label.sk-toggleable__label-arrow:before {\n",
       "  content: \"▾\";\n",
       "}\n",
       "\n",
       "/* Pipeline/ColumnTransformer-specific style */\n",
       "\n",
       "#sk-container-id-1 div.sk-label input.sk-toggleable__control:checked~label.sk-toggleable__label {\n",
       "  color: var(--sklearn-color-text);\n",
       "  background-color: var(--sklearn-color-unfitted-level-2);\n",
       "}\n",
       "\n",
       "#sk-container-id-1 div.sk-label.fitted input.sk-toggleable__control:checked~label.sk-toggleable__label {\n",
       "  background-color: var(--sklearn-color-fitted-level-2);\n",
       "}\n",
       "\n",
       "/* Estimator-specific style */\n",
       "\n",
       "/* Colorize estimator box */\n",
       "#sk-container-id-1 div.sk-estimator input.sk-toggleable__control:checked~label.sk-toggleable__label {\n",
       "  /* unfitted */\n",
       "  background-color: var(--sklearn-color-unfitted-level-2);\n",
       "}\n",
       "\n",
       "#sk-container-id-1 div.sk-estimator.fitted input.sk-toggleable__control:checked~label.sk-toggleable__label {\n",
       "  /* fitted */\n",
       "  background-color: var(--sklearn-color-fitted-level-2);\n",
       "}\n",
       "\n",
       "#sk-container-id-1 div.sk-label label.sk-toggleable__label,\n",
       "#sk-container-id-1 div.sk-label label {\n",
       "  /* The background is the default theme color */\n",
       "  color: var(--sklearn-color-text-on-default-background);\n",
       "}\n",
       "\n",
       "/* On hover, darken the color of the background */\n",
       "#sk-container-id-1 div.sk-label:hover label.sk-toggleable__label {\n",
       "  color: var(--sklearn-color-text);\n",
       "  background-color: var(--sklearn-color-unfitted-level-2);\n",
       "}\n",
       "\n",
       "/* Label box, darken color on hover, fitted */\n",
       "#sk-container-id-1 div.sk-label.fitted:hover label.sk-toggleable__label.fitted {\n",
       "  color: var(--sklearn-color-text);\n",
       "  background-color: var(--sklearn-color-fitted-level-2);\n",
       "}\n",
       "\n",
       "/* Estimator label */\n",
       "\n",
       "#sk-container-id-1 div.sk-label label {\n",
       "  font-family: monospace;\n",
       "  font-weight: bold;\n",
       "  display: inline-block;\n",
       "  line-height: 1.2em;\n",
       "}\n",
       "\n",
       "#sk-container-id-1 div.sk-label-container {\n",
       "  text-align: center;\n",
       "}\n",
       "\n",
       "/* Estimator-specific */\n",
       "#sk-container-id-1 div.sk-estimator {\n",
       "  font-family: monospace;\n",
       "  border: 1px dotted var(--sklearn-color-border-box);\n",
       "  border-radius: 0.25em;\n",
       "  box-sizing: border-box;\n",
       "  margin-bottom: 0.5em;\n",
       "  /* unfitted */\n",
       "  background-color: var(--sklearn-color-unfitted-level-0);\n",
       "}\n",
       "\n",
       "#sk-container-id-1 div.sk-estimator.fitted {\n",
       "  /* fitted */\n",
       "  background-color: var(--sklearn-color-fitted-level-0);\n",
       "}\n",
       "\n",
       "/* on hover */\n",
       "#sk-container-id-1 div.sk-estimator:hover {\n",
       "  /* unfitted */\n",
       "  background-color: var(--sklearn-color-unfitted-level-2);\n",
       "}\n",
       "\n",
       "#sk-container-id-1 div.sk-estimator.fitted:hover {\n",
       "  /* fitted */\n",
       "  background-color: var(--sklearn-color-fitted-level-2);\n",
       "}\n",
       "\n",
       "/* Specification for estimator info (e.g. \"i\" and \"?\") */\n",
       "\n",
       "/* Common style for \"i\" and \"?\" */\n",
       "\n",
       ".sk-estimator-doc-link,\n",
       "a:link.sk-estimator-doc-link,\n",
       "a:visited.sk-estimator-doc-link {\n",
       "  float: right;\n",
       "  font-size: smaller;\n",
       "  line-height: 1em;\n",
       "  font-family: monospace;\n",
       "  background-color: var(--sklearn-color-background);\n",
       "  border-radius: 1em;\n",
       "  height: 1em;\n",
       "  width: 1em;\n",
       "  text-decoration: none !important;\n",
       "  margin-left: 0.5em;\n",
       "  text-align: center;\n",
       "  /* unfitted */\n",
       "  border: var(--sklearn-color-unfitted-level-1) 1pt solid;\n",
       "  color: var(--sklearn-color-unfitted-level-1);\n",
       "}\n",
       "\n",
       ".sk-estimator-doc-link.fitted,\n",
       "a:link.sk-estimator-doc-link.fitted,\n",
       "a:visited.sk-estimator-doc-link.fitted {\n",
       "  /* fitted */\n",
       "  border: var(--sklearn-color-fitted-level-1) 1pt solid;\n",
       "  color: var(--sklearn-color-fitted-level-1);\n",
       "}\n",
       "\n",
       "/* On hover */\n",
       "div.sk-estimator:hover .sk-estimator-doc-link:hover,\n",
       ".sk-estimator-doc-link:hover,\n",
       "div.sk-label-container:hover .sk-estimator-doc-link:hover,\n",
       ".sk-estimator-doc-link:hover {\n",
       "  /* unfitted */\n",
       "  background-color: var(--sklearn-color-unfitted-level-3);\n",
       "  color: var(--sklearn-color-background);\n",
       "  text-decoration: none;\n",
       "}\n",
       "\n",
       "div.sk-estimator.fitted:hover .sk-estimator-doc-link.fitted:hover,\n",
       ".sk-estimator-doc-link.fitted:hover,\n",
       "div.sk-label-container:hover .sk-estimator-doc-link.fitted:hover,\n",
       ".sk-estimator-doc-link.fitted:hover {\n",
       "  /* fitted */\n",
       "  background-color: var(--sklearn-color-fitted-level-3);\n",
       "  color: var(--sklearn-color-background);\n",
       "  text-decoration: none;\n",
       "}\n",
       "\n",
       "/* Span, style for the box shown on hovering the info icon */\n",
       ".sk-estimator-doc-link span {\n",
       "  display: none;\n",
       "  z-index: 9999;\n",
       "  position: relative;\n",
       "  font-weight: normal;\n",
       "  right: .2ex;\n",
       "  padding: .5ex;\n",
       "  margin: .5ex;\n",
       "  width: min-content;\n",
       "  min-width: 20ex;\n",
       "  max-width: 50ex;\n",
       "  color: var(--sklearn-color-text);\n",
       "  box-shadow: 2pt 2pt 4pt #999;\n",
       "  /* unfitted */\n",
       "  background: var(--sklearn-color-unfitted-level-0);\n",
       "  border: .5pt solid var(--sklearn-color-unfitted-level-3);\n",
       "}\n",
       "\n",
       ".sk-estimator-doc-link.fitted span {\n",
       "  /* fitted */\n",
       "  background: var(--sklearn-color-fitted-level-0);\n",
       "  border: var(--sklearn-color-fitted-level-3);\n",
       "}\n",
       "\n",
       ".sk-estimator-doc-link:hover span {\n",
       "  display: block;\n",
       "}\n",
       "\n",
       "/* \"?\"-specific style due to the `<a>` HTML tag */\n",
       "\n",
       "#sk-container-id-1 a.estimator_doc_link {\n",
       "  float: right;\n",
       "  font-size: 1rem;\n",
       "  line-height: 1em;\n",
       "  font-family: monospace;\n",
       "  background-color: var(--sklearn-color-background);\n",
       "  border-radius: 1rem;\n",
       "  height: 1rem;\n",
       "  width: 1rem;\n",
       "  text-decoration: none;\n",
       "  /* unfitted */\n",
       "  color: var(--sklearn-color-unfitted-level-1);\n",
       "  border: var(--sklearn-color-unfitted-level-1) 1pt solid;\n",
       "}\n",
       "\n",
       "#sk-container-id-1 a.estimator_doc_link.fitted {\n",
       "  /* fitted */\n",
       "  border: var(--sklearn-color-fitted-level-1) 1pt solid;\n",
       "  color: var(--sklearn-color-fitted-level-1);\n",
       "}\n",
       "\n",
       "/* On hover */\n",
       "#sk-container-id-1 a.estimator_doc_link:hover {\n",
       "  /* unfitted */\n",
       "  background-color: var(--sklearn-color-unfitted-level-3);\n",
       "  color: var(--sklearn-color-background);\n",
       "  text-decoration: none;\n",
       "}\n",
       "\n",
       "#sk-container-id-1 a.estimator_doc_link.fitted:hover {\n",
       "  /* fitted */\n",
       "  background-color: var(--sklearn-color-fitted-level-3);\n",
       "}\n",
       "\n",
       ".estimator-table summary {\n",
       "    padding: .5rem;\n",
       "    font-family: monospace;\n",
       "    cursor: pointer;\n",
       "}\n",
       "\n",
       ".estimator-table details[open] {\n",
       "    padding-left: 0.1rem;\n",
       "    padding-right: 0.1rem;\n",
       "    padding-bottom: 0.3rem;\n",
       "}\n",
       "\n",
       ".estimator-table .parameters-table {\n",
       "    margin-left: auto !important;\n",
       "    margin-right: auto !important;\n",
       "}\n",
       "\n",
       ".estimator-table .parameters-table tr:nth-child(odd) {\n",
       "    background-color: #fff;\n",
       "}\n",
       "\n",
       ".estimator-table .parameters-table tr:nth-child(even) {\n",
       "    background-color: #f6f6f6;\n",
       "}\n",
       "\n",
       ".estimator-table .parameters-table tr:hover {\n",
       "    background-color: #e0e0e0;\n",
       "}\n",
       "\n",
       ".estimator-table table td {\n",
       "    border: 1px solid rgba(106, 105, 104, 0.232);\n",
       "}\n",
       "\n",
       ".user-set td {\n",
       "    color:rgb(255, 94, 0);\n",
       "    text-align: left;\n",
       "}\n",
       "\n",
       ".user-set td.value pre {\n",
       "    color:rgb(255, 94, 0) !important;\n",
       "    background-color: transparent !important;\n",
       "}\n",
       "\n",
       ".default td {\n",
       "    color: black;\n",
       "    text-align: left;\n",
       "}\n",
       "\n",
       ".user-set td i,\n",
       ".default td i {\n",
       "    color: black;\n",
       "}\n",
       "\n",
       ".copy-paste-icon {\n",
       "    background-image: url(data:image/svg+xml;base64,PHN2ZyB4bWxucz0iaHR0cDovL3d3dy53My5vcmcvMjAwMC9zdmciIHZpZXdCb3g9IjAgMCA0NDggNTEyIj48IS0tIUZvbnQgQXdlc29tZSBGcmVlIDYuNy4yIGJ5IEBmb250YXdlc29tZSAtIGh0dHBzOi8vZm9udGF3ZXNvbWUuY29tIExpY2Vuc2UgLSBodHRwczovL2ZvbnRhd2Vzb21lLmNvbS9saWNlbnNlL2ZyZWUgQ29weXJpZ2h0IDIwMjUgRm9udGljb25zLCBJbmMuLS0+PHBhdGggZD0iTTIwOCAwTDMzMi4xIDBjMTIuNyAwIDI0LjkgNS4xIDMzLjkgMTQuMWw2Ny45IDY3LjljOSA5IDE0LjEgMjEuMiAxNC4xIDMzLjlMNDQ4IDMzNmMwIDI2LjUtMjEuNSA0OC00OCA0OGwtMTkyIDBjLTI2LjUgMC00OC0yMS41LTQ4LTQ4bDAtMjg4YzAtMjYuNSAyMS41LTQ4IDQ4LTQ4ek00OCAxMjhsODAgMCAwIDY0LTY0IDAgMCAyNTYgMTkyIDAgMC0zMiA2NCAwIDAgNDhjMCAyNi41LTIxLjUgNDgtNDggNDhMNDggNTEyYy0yNi41IDAtNDgtMjEuNS00OC00OEwwIDE3NmMwLTI2LjUgMjEuNS00OCA0OC00OHoiLz48L3N2Zz4=);\n",
       "    background-repeat: no-repeat;\n",
       "    background-size: 14px 14px;\n",
       "    background-position: 0;\n",
       "    display: inline-block;\n",
       "    width: 14px;\n",
       "    height: 14px;\n",
       "    cursor: pointer;\n",
       "}\n",
       "</style><body><div id=\"sk-container-id-1\" class=\"sk-top-container\"><div class=\"sk-text-repr-fallback\"><pre>RandomForestRegressor()</pre><b>In a Jupyter environment, please rerun this cell to show the HTML representation or trust the notebook. <br />On GitHub, the HTML representation is unable to render, please try loading this page with nbviewer.org.</b></div><div class=\"sk-container\" hidden><div class=\"sk-item\"><div class=\"sk-estimator fitted sk-toggleable\"><input class=\"sk-toggleable__control sk-hidden--visually\" id=\"sk-estimator-id-1\" type=\"checkbox\" checked><label for=\"sk-estimator-id-1\" class=\"sk-toggleable__label fitted sk-toggleable__label-arrow\"><div><div>RandomForestRegressor</div></div><div><a class=\"sk-estimator-doc-link fitted\" rel=\"noreferrer\" target=\"_blank\" href=\"https://scikit-learn.org/1.7/modules/generated/sklearn.ensemble.RandomForestRegressor.html\">?<span>Documentation for RandomForestRegressor</span></a><span class=\"sk-estimator-doc-link fitted\">i<span>Fitted</span></span></div></label><div class=\"sk-toggleable__content fitted\" data-param-prefix=\"\">\n",
       "        <div class=\"estimator-table\">\n",
       "            <details>\n",
       "                <summary>Parameters</summary>\n",
       "                <table class=\"parameters-table\">\n",
       "                  <tbody>\n",
       "                    \n",
       "        <tr class=\"default\">\n",
       "            <td><i class=\"copy-paste-icon\"\n",
       "                 onclick=\"copyToClipboard('n_estimators',\n",
       "                          this.parentElement.nextElementSibling)\"\n",
       "            ></i></td>\n",
       "            <td class=\"param\">n_estimators&nbsp;</td>\n",
       "            <td class=\"value\">100</td>\n",
       "        </tr>\n",
       "    \n",
       "\n",
       "        <tr class=\"default\">\n",
       "            <td><i class=\"copy-paste-icon\"\n",
       "                 onclick=\"copyToClipboard('criterion',\n",
       "                          this.parentElement.nextElementSibling)\"\n",
       "            ></i></td>\n",
       "            <td class=\"param\">criterion&nbsp;</td>\n",
       "            <td class=\"value\">&#x27;squared_error&#x27;</td>\n",
       "        </tr>\n",
       "    \n",
       "\n",
       "        <tr class=\"default\">\n",
       "            <td><i class=\"copy-paste-icon\"\n",
       "                 onclick=\"copyToClipboard('max_depth',\n",
       "                          this.parentElement.nextElementSibling)\"\n",
       "            ></i></td>\n",
       "            <td class=\"param\">max_depth&nbsp;</td>\n",
       "            <td class=\"value\">None</td>\n",
       "        </tr>\n",
       "    \n",
       "\n",
       "        <tr class=\"default\">\n",
       "            <td><i class=\"copy-paste-icon\"\n",
       "                 onclick=\"copyToClipboard('min_samples_split',\n",
       "                          this.parentElement.nextElementSibling)\"\n",
       "            ></i></td>\n",
       "            <td class=\"param\">min_samples_split&nbsp;</td>\n",
       "            <td class=\"value\">2</td>\n",
       "        </tr>\n",
       "    \n",
       "\n",
       "        <tr class=\"default\">\n",
       "            <td><i class=\"copy-paste-icon\"\n",
       "                 onclick=\"copyToClipboard('min_samples_leaf',\n",
       "                          this.parentElement.nextElementSibling)\"\n",
       "            ></i></td>\n",
       "            <td class=\"param\">min_samples_leaf&nbsp;</td>\n",
       "            <td class=\"value\">1</td>\n",
       "        </tr>\n",
       "    \n",
       "\n",
       "        <tr class=\"default\">\n",
       "            <td><i class=\"copy-paste-icon\"\n",
       "                 onclick=\"copyToClipboard('min_weight_fraction_leaf',\n",
       "                          this.parentElement.nextElementSibling)\"\n",
       "            ></i></td>\n",
       "            <td class=\"param\">min_weight_fraction_leaf&nbsp;</td>\n",
       "            <td class=\"value\">0.0</td>\n",
       "        </tr>\n",
       "    \n",
       "\n",
       "        <tr class=\"default\">\n",
       "            <td><i class=\"copy-paste-icon\"\n",
       "                 onclick=\"copyToClipboard('max_features',\n",
       "                          this.parentElement.nextElementSibling)\"\n",
       "            ></i></td>\n",
       "            <td class=\"param\">max_features&nbsp;</td>\n",
       "            <td class=\"value\">1.0</td>\n",
       "        </tr>\n",
       "    \n",
       "\n",
       "        <tr class=\"default\">\n",
       "            <td><i class=\"copy-paste-icon\"\n",
       "                 onclick=\"copyToClipboard('max_leaf_nodes',\n",
       "                          this.parentElement.nextElementSibling)\"\n",
       "            ></i></td>\n",
       "            <td class=\"param\">max_leaf_nodes&nbsp;</td>\n",
       "            <td class=\"value\">None</td>\n",
       "        </tr>\n",
       "    \n",
       "\n",
       "        <tr class=\"default\">\n",
       "            <td><i class=\"copy-paste-icon\"\n",
       "                 onclick=\"copyToClipboard('min_impurity_decrease',\n",
       "                          this.parentElement.nextElementSibling)\"\n",
       "            ></i></td>\n",
       "            <td class=\"param\">min_impurity_decrease&nbsp;</td>\n",
       "            <td class=\"value\">0.0</td>\n",
       "        </tr>\n",
       "    \n",
       "\n",
       "        <tr class=\"default\">\n",
       "            <td><i class=\"copy-paste-icon\"\n",
       "                 onclick=\"copyToClipboard('bootstrap',\n",
       "                          this.parentElement.nextElementSibling)\"\n",
       "            ></i></td>\n",
       "            <td class=\"param\">bootstrap&nbsp;</td>\n",
       "            <td class=\"value\">True</td>\n",
       "        </tr>\n",
       "    \n",
       "\n",
       "        <tr class=\"default\">\n",
       "            <td><i class=\"copy-paste-icon\"\n",
       "                 onclick=\"copyToClipboard('oob_score',\n",
       "                          this.parentElement.nextElementSibling)\"\n",
       "            ></i></td>\n",
       "            <td class=\"param\">oob_score&nbsp;</td>\n",
       "            <td class=\"value\">False</td>\n",
       "        </tr>\n",
       "    \n",
       "\n",
       "        <tr class=\"default\">\n",
       "            <td><i class=\"copy-paste-icon\"\n",
       "                 onclick=\"copyToClipboard('n_jobs',\n",
       "                          this.parentElement.nextElementSibling)\"\n",
       "            ></i></td>\n",
       "            <td class=\"param\">n_jobs&nbsp;</td>\n",
       "            <td class=\"value\">None</td>\n",
       "        </tr>\n",
       "    \n",
       "\n",
       "        <tr class=\"default\">\n",
       "            <td><i class=\"copy-paste-icon\"\n",
       "                 onclick=\"copyToClipboard('random_state',\n",
       "                          this.parentElement.nextElementSibling)\"\n",
       "            ></i></td>\n",
       "            <td class=\"param\">random_state&nbsp;</td>\n",
       "            <td class=\"value\">None</td>\n",
       "        </tr>\n",
       "    \n",
       "\n",
       "        <tr class=\"default\">\n",
       "            <td><i class=\"copy-paste-icon\"\n",
       "                 onclick=\"copyToClipboard('verbose',\n",
       "                          this.parentElement.nextElementSibling)\"\n",
       "            ></i></td>\n",
       "            <td class=\"param\">verbose&nbsp;</td>\n",
       "            <td class=\"value\">0</td>\n",
       "        </tr>\n",
       "    \n",
       "\n",
       "        <tr class=\"default\">\n",
       "            <td><i class=\"copy-paste-icon\"\n",
       "                 onclick=\"copyToClipboard('warm_start',\n",
       "                          this.parentElement.nextElementSibling)\"\n",
       "            ></i></td>\n",
       "            <td class=\"param\">warm_start&nbsp;</td>\n",
       "            <td class=\"value\">False</td>\n",
       "        </tr>\n",
       "    \n",
       "\n",
       "        <tr class=\"default\">\n",
       "            <td><i class=\"copy-paste-icon\"\n",
       "                 onclick=\"copyToClipboard('ccp_alpha',\n",
       "                          this.parentElement.nextElementSibling)\"\n",
       "            ></i></td>\n",
       "            <td class=\"param\">ccp_alpha&nbsp;</td>\n",
       "            <td class=\"value\">0.0</td>\n",
       "        </tr>\n",
       "    \n",
       "\n",
       "        <tr class=\"default\">\n",
       "            <td><i class=\"copy-paste-icon\"\n",
       "                 onclick=\"copyToClipboard('max_samples',\n",
       "                          this.parentElement.nextElementSibling)\"\n",
       "            ></i></td>\n",
       "            <td class=\"param\">max_samples&nbsp;</td>\n",
       "            <td class=\"value\">None</td>\n",
       "        </tr>\n",
       "    \n",
       "\n",
       "        <tr class=\"default\">\n",
       "            <td><i class=\"copy-paste-icon\"\n",
       "                 onclick=\"copyToClipboard('monotonic_cst',\n",
       "                          this.parentElement.nextElementSibling)\"\n",
       "            ></i></td>\n",
       "            <td class=\"param\">monotonic_cst&nbsp;</td>\n",
       "            <td class=\"value\">None</td>\n",
       "        </tr>\n",
       "    \n",
       "                  </tbody>\n",
       "                </table>\n",
       "            </details>\n",
       "        </div>\n",
       "    </div></div></div></div></div><script>function copyToClipboard(text, element) {\n",
       "    // Get the parameter prefix from the closest toggleable content\n",
       "    const toggleableContent = element.closest('.sk-toggleable__content');\n",
       "    const paramPrefix = toggleableContent ? toggleableContent.dataset.paramPrefix : '';\n",
       "    const fullParamName = paramPrefix ? `${paramPrefix}${text}` : text;\n",
       "\n",
       "    const originalStyle = element.style;\n",
       "    const computedStyle = window.getComputedStyle(element);\n",
       "    const originalWidth = computedStyle.width;\n",
       "    const originalHTML = element.innerHTML.replace('Copied!', '');\n",
       "\n",
       "    navigator.clipboard.writeText(fullParamName)\n",
       "        .then(() => {\n",
       "            element.style.width = originalWidth;\n",
       "            element.style.color = 'green';\n",
       "            element.innerHTML = \"Copied!\";\n",
       "\n",
       "            setTimeout(() => {\n",
       "                element.innerHTML = originalHTML;\n",
       "                element.style = originalStyle;\n",
       "            }, 2000);\n",
       "        })\n",
       "        .catch(err => {\n",
       "            console.error('Failed to copy:', err);\n",
       "            element.style.color = 'red';\n",
       "            element.innerHTML = \"Failed!\";\n",
       "            setTimeout(() => {\n",
       "                element.innerHTML = originalHTML;\n",
       "                element.style = originalStyle;\n",
       "            }, 2000);\n",
       "        });\n",
       "    return false;\n",
       "}\n",
       "\n",
       "document.querySelectorAll('.fa-regular.fa-copy').forEach(function(element) {\n",
       "    const toggleableContent = element.closest('.sk-toggleable__content');\n",
       "    const paramPrefix = toggleableContent ? toggleableContent.dataset.paramPrefix : '';\n",
       "    const paramName = element.parentElement.nextElementSibling.textContent.trim();\n",
       "    const fullParamName = paramPrefix ? `${paramPrefix}${paramName}` : paramName;\n",
       "\n",
       "    element.setAttribute('title', fullParamName);\n",
       "});\n",
       "</script></body>"
      ],
      "text/plain": [
       "RandomForestRegressor()"
      ]
     },
     "execution_count": 207,
     "metadata": {},
     "output_type": "execute_result"
    }
   ],
   "source": [
    "# Fit the model to the data...\n",
    "rf_model.fit(X_train , y_train)"
   ]
  },
  {
   "cell_type": "code",
   "execution_count": 208,
   "id": "993faadb",
   "metadata": {},
   "outputs": [],
   "source": [
    "# Make predictions..\n",
    "\n",
    "predictions = rf_model.predict(X_test)"
   ]
  },
  {
   "cell_type": "code",
   "execution_count": 209,
   "id": "3cee7ccf",
   "metadata": {},
   "outputs": [
    {
     "data": {
      "text/plain": [
       "array([10.70950648,  9.98165784, 10.14553287, ...,  8.38519096,\n",
       "       10.71553995, 11.30989302])"
      ]
     },
     "execution_count": 209,
     "metadata": {},
     "output_type": "execute_result"
    }
   ],
   "source": [
    "predictions"
   ]
  },
  {
   "cell_type": "markdown",
   "id": "5b00b4fd",
   "metadata": {},
   "source": [
    "## 8️⃣Model Evaluation"
   ]
  },
  {
   "cell_type": "code",
   "execution_count": 210,
   "id": "fe9e2215",
   "metadata": {},
   "outputs": [
    {
     "data": {
      "text/html": [
       "<pre style=\"white-space:pre;overflow-x:auto;line-height:normal;font-family:Menlo,'DejaVu Sans Mono',consolas,'Courier New',monospace\">MSE: <span style=\"color: #008080; text-decoration-color: #008080; font-weight: bold\">0.12182677137767312</span>\n",
       "</pre>\n"
      ],
      "text/plain": [
       "MSE: \u001b[1;36m0.12182677137767312\u001b[0m\n"
      ]
     },
     "metadata": {},
     "output_type": "display_data"
    },
    {
     "data": {
      "text/html": [
       "<pre style=\"white-space:pre;overflow-x:auto;line-height:normal;font-family:Menlo,'DejaVu Sans Mono',consolas,'Courier New',monospace\">MAE: <span style=\"color: #008080; text-decoration-color: #008080; font-weight: bold\">0.17465702996177823</span>\n",
       "</pre>\n"
      ],
      "text/plain": [
       "MAE: \u001b[1;36m0.17465702996177823\u001b[0m\n"
      ]
     },
     "metadata": {},
     "output_type": "display_data"
    },
    {
     "data": {
      "text/html": [
       "<pre style=\"white-space:pre;overflow-x:auto;line-height:normal;font-family:Menlo,'DejaVu Sans Mono',consolas,'Courier New',monospace\">R2: <span style=\"color: #008080; text-decoration-color: #008080; font-weight: bold\">0.845492066196377</span>\n",
       "</pre>\n"
      ],
      "text/plain": [
       "R2: \u001b[1;36m0.845492066196377\u001b[0m\n"
      ]
     },
     "metadata": {},
     "output_type": "display_data"
    }
   ],
   "source": [
    "mse = mean_squared_error(y_test, predictions)\n",
    "mae = mean_absolute_error(y_test, predictions)\n",
    "r2 = r2_score(y_test, predictions)\n",
    "\n",
    "print(\"MSE:\", mse)\n",
    "print(\"MAE:\", mae)\n",
    "print(\"R2:\", r2)"
   ]
  },
  {
   "cell_type": "markdown",
   "id": "e7551642",
   "metadata": {},
   "source": [
    "### Feature Importance"
   ]
  },
  {
   "cell_type": "code",
   "execution_count": 211,
   "id": "90563eec",
   "metadata": {},
   "outputs": [
    {
     "data": {
      "image/png": "[encoded data removed]",
      "text/plain": [
       "<Figure size 1000x600 with 1 Axes>"
      ]
     },
     "metadata": {},
     "output_type": "display_data"
    },
    {
     "data": {
      "text/html": [
       "<div>\n",
       "<style scoped>\n",
       "    .dataframe tbody tr th:only-of-type {\n",
       "        vertical-align: middle;\n",
       "    }\n",
       "\n",
       "    .dataframe tbody tr th {\n",
       "        vertical-align: top;\n",
       "    }\n",
       "\n",
       "    .dataframe thead th {\n",
       "        text-align: right;\n",
       "    }\n",
       "</style>\n",
       "<table border=\"1\" class=\"dataframe\">\n",
       "  <thead>\n",
       "    <tr style=\"text-align: right;\">\n",
       "      <th></th>\n",
       "      <th>Feature</th>\n",
       "      <th>Importance</th>\n",
       "    </tr>\n",
       "  </thead>\n",
       "  <tbody>\n",
       "    <tr>\n",
       "      <th>2</th>\n",
       "      <td>car_age</td>\n",
       "      <td>0.384036</td>\n",
       "    </tr>\n",
       "    <tr>\n",
       "      <th>1</th>\n",
       "      <td>odometer_log</td>\n",
       "      <td>0.141451</td>\n",
       "    </tr>\n",
       "    <tr>\n",
       "      <th>39</th>\n",
       "      <td>model_freq_encoded</td>\n",
       "      <td>0.058449</td>\n",
       "    </tr>\n",
       "    <tr>\n",
       "      <th>0</th>\n",
       "      <td>year</td>\n",
       "      <td>0.053090</td>\n",
       "    </tr>\n",
       "    <tr>\n",
       "      <th>40</th>\n",
       "      <td>mf_freq_encoded</td>\n",
       "      <td>0.048820</td>\n",
       "    </tr>\n",
       "    <tr>\n",
       "      <th>31</th>\n",
       "      <td>drive_fwd</td>\n",
       "      <td>0.046026</td>\n",
       "    </tr>\n",
       "    <tr>\n",
       "      <th>21</th>\n",
       "      <td>fuel_gas</td>\n",
       "      <td>0.043575</td>\n",
       "    </tr>\n",
       "    <tr>\n",
       "      <th>38</th>\n",
       "      <td>state_freq_encoded</td>\n",
       "      <td>0.038118</td>\n",
       "    </tr>\n",
       "    <tr>\n",
       "      <th>41</th>\n",
       "      <td>condition_encoded</td>\n",
       "      <td>0.029713</td>\n",
       "    </tr>\n",
       "    <tr>\n",
       "      <th>18</th>\n",
       "      <td>cylinders_8 cylinders</td>\n",
       "      <td>0.023901</td>\n",
       "    </tr>\n",
       "    <tr>\n",
       "      <th>32</th>\n",
       "      <td>drive_missing</td>\n",
       "      <td>0.015758</td>\n",
       "    </tr>\n",
       "    <tr>\n",
       "      <th>19</th>\n",
       "      <td>cylinders_other</td>\n",
       "      <td>0.009091</td>\n",
       "    </tr>\n",
       "    <tr>\n",
       "      <th>17</th>\n",
       "      <td>cylinders_6 cylinders</td>\n",
       "      <td>0.008699</td>\n",
       "    </tr>\n",
       "    <tr>\n",
       "      <th>6</th>\n",
       "      <td>paint_color_missing</td>\n",
       "      <td>0.008008</td>\n",
       "    </tr>\n",
       "    <tr>\n",
       "      <th>25</th>\n",
       "      <td>title_status_missing</td>\n",
       "      <td>0.007960</td>\n",
       "    </tr>\n",
       "    <tr>\n",
       "      <th>13</th>\n",
       "      <td>type_pickup</td>\n",
       "      <td>0.007024</td>\n",
       "    </tr>\n",
       "    <tr>\n",
       "      <th>15</th>\n",
       "      <td>type_truck</td>\n",
       "      <td>0.006727</td>\n",
       "    </tr>\n",
       "    <tr>\n",
       "      <th>14</th>\n",
       "      <td>type_sedan</td>\n",
       "      <td>0.006364</td>\n",
       "    </tr>\n",
       "    <tr>\n",
       "      <th>11</th>\n",
       "      <td>type_missing</td>\n",
       "      <td>0.006047</td>\n",
       "    </tr>\n",
       "    <tr>\n",
       "      <th>29</th>\n",
       "      <td>transmission_manual</td>\n",
       "      <td>0.004227</td>\n",
       "    </tr>\n",
       "    <tr>\n",
       "      <th>12</th>\n",
       "      <td>type_other</td>\n",
       "      <td>0.004135</td>\n",
       "    </tr>\n",
       "    <tr>\n",
       "      <th>3</th>\n",
       "      <td>posting_day_type</td>\n",
       "      <td>0.003939</td>\n",
       "    </tr>\n",
       "    <tr>\n",
       "      <th>10</th>\n",
       "      <td>paint_color_white</td>\n",
       "      <td>0.003824</td>\n",
       "    </tr>\n",
       "    <tr>\n",
       "      <th>22</th>\n",
       "      <td>fuel_hybrid</td>\n",
       "      <td>0.003823</td>\n",
       "    </tr>\n",
       "    <tr>\n",
       "      <th>23</th>\n",
       "      <td>fuel_other</td>\n",
       "      <td>0.003805</td>\n",
       "    </tr>\n",
       "    <tr>\n",
       "      <th>36</th>\n",
       "      <td>size_missing</td>\n",
       "      <td>0.003530</td>\n",
       "    </tr>\n",
       "    <tr>\n",
       "      <th>30</th>\n",
       "      <td>transmission_other</td>\n",
       "      <td>0.003439</td>\n",
       "    </tr>\n",
       "    <tr>\n",
       "      <th>33</th>\n",
       "      <td>drive_rwd</td>\n",
       "      <td>0.003243</td>\n",
       "    </tr>\n",
       "    <tr>\n",
       "      <th>27</th>\n",
       "      <td>title_status_rebuilt</td>\n",
       "      <td>0.002677</td>\n",
       "    </tr>\n",
       "    <tr>\n",
       "      <th>34</th>\n",
       "      <td>size_full-size</td>\n",
       "      <td>0.002596</td>\n",
       "    </tr>\n",
       "  </tbody>\n",
       "</table>\n",
       "</div>"
      ],
      "text/plain": [
       "                  Feature  Importance\n",
       "2                 car_age    0.384036\n",
       "1            odometer_log    0.141451\n",
       "39     model_freq_encoded    0.058449\n",
       "0                    year    0.053090\n",
       "40        mf_freq_encoded    0.048820\n",
       "31              drive_fwd    0.046026\n",
       "21               fuel_gas    0.043575\n",
       "38     state_freq_encoded    0.038118\n",
       "41      condition_encoded    0.029713\n",
       "18  cylinders_8 cylinders    0.023901\n",
       "32          drive_missing    0.015758\n",
       "19        cylinders_other    0.009091\n",
       "17  cylinders_6 cylinders    0.008699\n",
       "6     paint_color_missing    0.008008\n",
       "25   title_status_missing    0.007960\n",
       "13            type_pickup    0.007024\n",
       "15             type_truck    0.006727\n",
       "14             type_sedan    0.006364\n",
       "11           type_missing    0.006047\n",
       "29    transmission_manual    0.004227\n",
       "12             type_other    0.004135\n",
       "3        posting_day_type    0.003939\n",
       "10      paint_color_white    0.003824\n",
       "22            fuel_hybrid    0.003823\n",
       "23             fuel_other    0.003805\n",
       "36           size_missing    0.003530\n",
       "30     transmission_other    0.003439\n",
       "33              drive_rwd    0.003243\n",
       "27   title_status_rebuilt    0.002677\n",
       "34         size_full-size    0.002596"
      ]
     },
     "execution_count": 211,
     "metadata": {},
     "output_type": "execute_result"
    }
   ],
   "source": [
    "importances = rf_model.feature_importances_\n",
    "features = X_train.columns\n",
    "\n",
    "\n",
    "feat_importances = pd.DataFrame({\n",
    "    \"Feature\": features,\n",
    "    \"Importance\": importances\n",
    "}).sort_values(by=\"Importance\", ascending=False)\n",
    "\n",
    "# Let's visualize the first 20 features\n",
    "plt.figure(figsize=(10,6))\n",
    "plt.barh(feat_importances[\"Feature\"].head(20), feat_importances[\"Importance\"].head(20))\n",
    "plt.gca().invert_yaxis()\n",
    "plt.title(\"Top 20 Feature Importances (Random Forest)\")\n",
    "plt.show()\n",
    "\n",
    "# To see the full table\n",
    "feat_importances.head(30)"
   ]
  },
  {
   "cell_type": "markdown",
   "id": "d10c990e",
   "metadata": {},
   "source": [
    "### Residual Analysis\n",
    "- We can see the model's errors by examining the distribution of prediction errors.\n",
    "\n",
    "**Scatter plot**: If the points form a horizontal band and are symmetrically distributed around 0, the model is working well. However, if the distribution is slanted or fan-shaped, there is heteroskedasticity or model error.\n",
    "\n",
    "**Histogram**: This allows you to see whether the residuals are close to a normal distribution."
   ]
  },
  {
   "cell_type": "code",
   "execution_count": 212,
   "id": "cac7e1ba",
   "metadata": {},
   "outputs": [
    {
     "data": {
      "image/png": "[encoded data removed]",
      "text/plain": [
       "<Figure size 1400x600 with 2 Axes>"
      ]
     },
     "metadata": {},
     "output_type": "display_data"
    }
   ],
   "source": [
    "# Predictions\n",
    "y_pred = rf_model.predict(X_test)\n",
    "\n",
    "# Residuals\n",
    "residuals = y_test - y_pred\n",
    "\n",
    "plt.figure(figsize=(14,6))\n",
    "\n",
    "# Scatter plot: Prediction vs Residual\n",
    "plt.subplot(1,2,1)\n",
    "plt.scatter(y_pred, residuals, alpha=0.5)\n",
    "plt.axhline(0, color='red', linestyle='--')\n",
    "plt.xlabel(\"Predicted Values\")\n",
    "plt.ylabel(\"Residuals\")\n",
    "plt.title(\"Residuals vs Predicted Values\")\n",
    "\n",
    "# Histogram: Residual distribution\n",
    "plt.subplot(1,2,2)\n",
    "sns.histplot(residuals, bins=50, kde=True)\n",
    "plt.xlabel(\"Residual\")\n",
    "plt.title(\"Residual Distribution\")\n",
    "\n",
    "plt.tight_layout()\n",
    "plt.show()"
   ]
  },
  {
   "cell_type": "code",
   "execution_count": 213,
   "id": "bda94ad7",
   "metadata": {},
   "outputs": [
    {
     "data": {
      "text/html": [
       "<pre style=\"white-space:pre;overflow-x:auto;line-height:normal;font-family:Menlo,'DejaVu Sans Mono',consolas,'Courier New',monospace\">Train R2: <span style=\"color: #008080; text-decoration-color: #008080; font-weight: bold\">0.9775883702252951</span>\n",
       "</pre>\n"
      ],
      "text/plain": [
       "Train R2: \u001b[1;36m0.9775883702252951\u001b[0m\n"
      ]
     },
     "metadata": {},
     "output_type": "display_data"
    },
    {
     "data": {
      "text/html": [
       "<pre style=\"white-space:pre;overflow-x:auto;line-height:normal;font-family:Menlo,'DejaVu Sans Mono',consolas,'Courier New',monospace\">Test R2: <span style=\"color: #008080; text-decoration-color: #008080; font-weight: bold\">0.845492066196377</span>\n",
       "</pre>\n"
      ],
      "text/plain": [
       "Test R2: \u001b[1;36m0.845492066196377\u001b[0m\n"
      ]
     },
     "metadata": {},
     "output_type": "display_data"
    }
   ],
   "source": [
    "\n",
    "y_train_pred = rf_model.predict(X_train)\n",
    "print(\"Train R2:\", r2_score(y_train, y_train_pred))\n",
    "print(\"Test R2:\", r2_score(y_test, y_pred))\n"
   ]
  },
  {
   "cell_type": "code",
   "execution_count": 214,
   "id": "897e8fb5",
   "metadata": {},
   "outputs": [
    {
     "data": {
      "text/html": [
       "<pre style=\"white-space:pre;overflow-x:auto;line-height:normal;font-family:Menlo,'DejaVu Sans Mono',consolas,'Courier New',monospace\">CV R2 mean: <span style=\"color: #008080; text-decoration-color: #008080; font-weight: bold\">0.8332726357588927</span>\n",
       "</pre>\n"
      ],
      "text/plain": [
       "CV R2 mean: \u001b[1;36m0.8332726357588927\u001b[0m\n"
      ]
     },
     "metadata": {},
     "output_type": "display_data"
    },
    {
     "data": {
      "text/html": [
       "<pre style=\"white-space:pre;overflow-x:auto;line-height:normal;font-family:Menlo,'DejaVu Sans Mono',consolas,'Courier New',monospace\">CV R2 std: <span style=\"color: #008080; text-decoration-color: #008080; font-weight: bold\">0.0034533021426069533</span>\n",
       "</pre>\n"
      ],
      "text/plain": [
       "CV R2 std: \u001b[1;36m0.0034533021426069533\u001b[0m\n"
      ]
     },
     "metadata": {},
     "output_type": "display_data"
    }
   ],
   "source": [
    "\n",
    "\n",
    "cv_scores = cross_val_score(rf_model, X_train, y_train, cv=5, scoring='r2')\n",
    "print(\"CV R2 mean:\", cv_scores.mean())\n",
    "print(\"CV R2 std:\", cv_scores.std())\n"
   ]
  },
  {
   "cell_type": "markdown",
   "id": "f8b6eef8",
   "metadata": {},
   "source": [
    "## Model Evaluation Summary\n",
    "\n",
    "- **Training R²:** 0.978  \n",
    "- **Test R²:** 0.845  \n",
    "- **Cross-Validation R²:** 0.833 ± 0.0035\n",
    "\n",
    "### Interpretation:\n",
    "\n",
    "- The model fits the training data very well (high training R²), indicating it has learned the patterns in the data effectively.  \n",
    "- The test and cross-validation R² scores are slightly lower, which is expected; there is minor overfitting but it is not severe.  \n",
    "- The low standard deviation in cross-validation R² demonstrates that the model's performance is stable across different folds.  \n",
    "\n",
    "**Conclusion:**  \n",
    "The model generalizes well to unseen data and is stable, making it suitable for deployment or reporting in the project. Further hyperparameter tuning could be done to slightly reduce overfitting, but the current performance is already strong.\n"
   ]
  }
 ],
 "metadata": {
  "kernelspec": {
   "display_name": "Python 3 (ipykernel)",
   "language": "python",
   "name": "python3"
  },
  "language_info": {
   "codemirror_mode": {
    "name": "ipython",
    "version": 3
   },
   "file_extension": ".py",
   "mimetype": "text/x-python",
   "name": "python",
   "nbconvert_exporter": "python",
   "pygments_lexer": "ipython3",
   "version": "3.10.11"
  }
 },
 "nbformat": 4,
 "nbformat_minor": 5
}
